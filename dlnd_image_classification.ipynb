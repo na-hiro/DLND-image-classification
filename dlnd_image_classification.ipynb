{
 "cells": [
  {
   "cell_type": "markdown",
   "metadata": {
    "collapsed": true
   },
   "source": [
    "# Image Classification\n",
    "In this project, you'll classify images from the [CIFAR-10 dataset](https://www.cs.toronto.edu/~kriz/cifar.html).  The dataset consists of airplanes, dogs, cats, and other objects. You'll preprocess the images, then train a convolutional neural network on all the samples. The images need to be normalized and the labels need to be one-hot encoded.  You'll get to apply what you learned and build a convolutional, max pooling, dropout, and fully connected layers.  At the end, you'll get to see your neural network's predictions on the sample images.\n",
    "## Get the Data\n",
    "Run the following cell to download the [CIFAR-10 dataset for python](https://www.cs.toronto.edu/~kriz/cifar-10-python.tar.gz)."
   ]
  },
  {
   "cell_type": "code",
   "execution_count": 1,
   "metadata": {},
   "outputs": [
    {
     "name": "stdout",
     "output_type": "stream",
     "text": [
      "All files found!\n"
     ]
    }
   ],
   "source": [
    "\"\"\"\n",
    "DON'T MODIFY ANYTHING IN THIS CELL THAT IS BELOW THIS LINE\n",
    "\"\"\"\n",
    "from urllib.request import urlretrieve\n",
    "from os.path import isfile, isdir\n",
    "from tqdm import tqdm\n",
    "import problem_unittests as tests\n",
    "import tarfile\n",
    "\n",
    "cifar10_dataset_folder_path = 'cifar-10-batches-py'\n",
    "\n",
    "# Use Floyd's cifar-10 dataset if present\n",
    "floyd_cifar10_location = '/input/cifar-10/python.tar.gz'\n",
    "if isfile(floyd_cifar10_location):\n",
    "    tar_gz_path = floyd_cifar10_location\n",
    "else:\n",
    "    tar_gz_path = 'cifar-10-python.tar.gz'\n",
    "\n",
    "class DLProgress(tqdm):\n",
    "    last_block = 0\n",
    "\n",
    "    def hook(self, block_num=1, block_size=1, total_size=None):\n",
    "        self.total = total_size\n",
    "        self.update((block_num - self.last_block) * block_size)\n",
    "        self.last_block = block_num\n",
    "\n",
    "if not isfile(tar_gz_path):\n",
    "    with DLProgress(unit='B', unit_scale=True, miniters=1, desc='CIFAR-10 Dataset') as pbar:\n",
    "        urlretrieve(\n",
    "            'https://www.cs.toronto.edu/~kriz/cifar-10-python.tar.gz',\n",
    "            tar_gz_path,\n",
    "            pbar.hook)\n",
    "\n",
    "if not isdir(cifar10_dataset_folder_path):\n",
    "    with tarfile.open(tar_gz_path) as tar:\n",
    "        tar.extractall()\n",
    "        tar.close()\n",
    "\n",
    "\n",
    "tests.test_folder_path(cifar10_dataset_folder_path)"
   ]
  },
  {
   "cell_type": "markdown",
   "metadata": {},
   "source": [
    "## Explore the Data\n",
    "The dataset is broken into batches to prevent your machine from running out of memory.  The CIFAR-10 dataset consists of 5 batches, named `data_batch_1`, `data_batch_2`, etc.. Each batch contains the labels and images that are one of the following:\n",
    "* airplane\n",
    "* automobile\n",
    "* bird\n",
    "* cat\n",
    "* deer\n",
    "* dog\n",
    "* frog\n",
    "* horse\n",
    "* ship\n",
    "* truck\n",
    "\n",
    "Understanding a dataset is part of making predictions on the data.  Play around with the code cell below by changing the `batch_id` and `sample_id`. The `batch_id` is the id for a batch (1-5). The `sample_id` is the id for a image and label pair in the batch.\n",
    "\n",
    "Ask yourself \"What are all possible labels?\", \"What is the range of values for the image data?\", \"Are the labels in order or random?\".  Answers to questions like these will help you preprocess the data and end up with better predictions."
   ]
  },
  {
   "cell_type": "code",
   "execution_count": 2,
   "metadata": {},
   "outputs": [
    {
     "name": "stdout",
     "output_type": "stream",
     "text": [
      "\n",
      "Stats of batch 1:\n",
      "Samples: 10000\n",
      "Label Counts: {0: 1005, 1: 974, 2: 1032, 3: 1016, 4: 999, 5: 937, 6: 1030, 7: 1001, 8: 1025, 9: 981}\n",
      "First 20 Labels: [6, 9, 9, 4, 1, 1, 2, 7, 8, 3, 4, 7, 7, 2, 9, 9, 9, 3, 2, 6]\n",
      "\n",
      "Example of Image 5:\n",
      "Image - Min Value: 0 Max Value: 252\n",
      "Image - Shape: (32, 32, 3)\n",
      "Label - Label Id: 1 Name: automobile\n"
     ]
    },
    {
     "data": {
      "image/png": "[encoded data removed]",
      "text/plain": [
       "<matplotlib.figure.Figure at 0x7f245d008080>"
      ]
     },
     "metadata": {
      "image/png": {
       "height": 250,
       "width": 253
      }
     },
     "output_type": "display_data"
    }
   ],
   "source": [
    "%matplotlib inline\n",
    "%config InlineBackend.figure_format = 'retina'\n",
    "\n",
    "import helper\n",
    "import numpy as np\n",
    "\n",
    "# Explore the dataset\n",
    "batch_id = 1\n",
    "sample_id = 5\n",
    "helper.display_stats(cifar10_dataset_folder_path, batch_id, sample_id)"
   ]
  },
  {
   "cell_type": "markdown",
   "metadata": {},
   "source": [
    "## Implement Preprocess Functions\n",
    "### Normalize\n",
    "In the cell below, implement the `normalize` function to take in image data, `x`, and return it as a normalized Numpy array. The values should be in the range of 0 to 1, inclusive.  The return object should be the same shape as `x`."
   ]
  },
  {
   "cell_type": "code",
   "execution_count": 3,
   "metadata": {},
   "outputs": [
    {
     "name": "stdout",
     "output_type": "stream",
     "text": [
      "Tests Passed\n"
     ]
    }
   ],
   "source": [
    "def normalize(x):\n",
    "    \"\"\"\n",
    "    Normalize a list of sample image data in the range of 0 to 1\n",
    "    : x: List of image data.  The image shape is (32, 32, 3)\n",
    "    : return: Numpy array of normalize data\n",
    "    \"\"\"\n",
    "    # TODO: Implement Function\n",
    "    return x / 255.0\n",
    "\n",
    "\n",
    "\"\"\"\n",
    "DON'T MODIFY ANYTHING IN THIS CELL THAT IS BELOW THIS LINE\n",
    "\"\"\"\n",
    "tests.test_normalize(normalize)"
   ]
  },
  {
   "cell_type": "markdown",
   "metadata": {},
   "source": [
    "### One-hot encode\n",
    "Just like the previous code cell, you'll be implementing a function for preprocessing.  This time, you'll implement the `one_hot_encode` function. The input, `x`, are a list of labels.  Implement the function to return the list of labels as One-Hot encoded Numpy array.  The possible values for labels are 0 to 9. The one-hot encoding function should return the same encoding for each value between each call to `one_hot_encode`.  Make sure to save the map of encodings outside the function.\n",
    "\n",
    "Hint: Don't reinvent the wheel."
   ]
  },
  {
   "cell_type": "code",
   "execution_count": 4,
   "metadata": {},
   "outputs": [
    {
     "name": "stdout",
     "output_type": "stream",
     "text": [
      "Tests Passed\n"
     ]
    }
   ],
   "source": [
    "from sklearn.preprocessing import LabelBinarizer\n",
    "label_binarizer = LabelBinarizer()\n",
    "label_binarizer.fit(range(10))\n",
    "\n",
    "def one_hot_encode(x):\n",
    "    \"\"\"\n",
    "    One hot encode a list of sample labels. Return a one-hot encoded vector for each label.\n",
    "    : x: List of sample Labels\n",
    "    : return: Numpy array of one-hot encoded labels\n",
    "    \"\"\"\n",
    "    # TODO: Implement Function\n",
    "#    y = np.zeros((len(x), 10))\n",
    "#    for i in range(len(x)):\n",
    "#        y[i, x[i]] = 1\n",
    "#    return y\n",
    "    return label_binarizer.transform(x)\n",
    "\n",
    "\"\"\"\n",
    "DON'T MODIFY ANYTHING IN THIS CELL THAT IS BELOW THIS LINE\n",
    "\"\"\"\n",
    "tests.test_one_hot_encode(one_hot_encode)"
   ]
  },
  {
   "cell_type": "markdown",
   "metadata": {},
   "source": [
    "### Randomize Data\n",
    "As you saw from exploring the data above, the order of the samples are randomized.  It doesn't hurt to randomize it again, but you don't need to for this dataset."
   ]
  },
  {
   "cell_type": "markdown",
   "metadata": {},
   "source": [
    "## Preprocess all the data and save it\n",
    "Running the code cell below will preprocess all the CIFAR-10 data and save it to file. The code below also uses 10% of the training data for validation."
   ]
  },
  {
   "cell_type": "code",
   "execution_count": 5,
   "metadata": {
    "collapsed": true
   },
   "outputs": [],
   "source": [
    "\"\"\"\n",
    "DON'T MODIFY ANYTHING IN THIS CELL\n",
    "\"\"\"\n",
    "# Preprocess Training, Validation, and Testing Data\n",
    "helper.preprocess_and_save_data(cifar10_dataset_folder_path, normalize, one_hot_encode)"
   ]
  },
  {
   "cell_type": "markdown",
   "metadata": {},
   "source": [
    "# Check Point\n",
    "This is your first checkpoint.  If you ever decide to come back to this notebook or have to restart the notebook, you can start from here.  The preprocessed data has been saved to disk."
   ]
  },
  {
   "cell_type": "code",
   "execution_count": 6,
   "metadata": {
    "collapsed": true
   },
   "outputs": [],
   "source": [
    "\"\"\"\n",
    "DON'T MODIFY ANYTHING IN THIS CELL\n",
    "\"\"\"\n",
    "import pickle\n",
    "import problem_unittests as tests\n",
    "import helper\n",
    "\n",
    "# Load the Preprocessed Validation data\n",
    "valid_features, valid_labels = pickle.load(open('preprocess_validation.p', mode='rb'))"
   ]
  },
  {
   "cell_type": "markdown",
   "metadata": {},
   "source": [
    "## Build the network\n",
    "For the neural network, you'll build each layer into a function.  Most of the code you've seen has been outside of functions. To test your code more thoroughly, we require that you put each layer in a function.  This allows us to give you better feedback and test for simple mistakes using our unittests before you submit your project.\n",
    "\n",
    ">**Note:** If you're finding it hard to dedicate enough time for this course each week, we've provided a small shortcut to this part of the project. In the next couple of problems, you'll have the option to use classes from the [TensorFlow Layers](https://www.tensorflow.org/api_docs/python/tf/layers) or [TensorFlow Layers (contrib)](https://www.tensorflow.org/api_guides/python/contrib.layers) packages to build each layer, except the layers you build in the \"Convolutional and Max Pooling Layer\" section.  TF Layers is similar to Keras's and TFLearn's abstraction to layers, so it's easy to pickup.\n",
    "\n",
    ">However, if you would like to get the most out of this course, try to solve all the problems _without_ using anything from the TF Layers packages. You **can** still use classes from other packages that happen to have the same name as ones you find in TF Layers! For example, instead of using the TF Layers version of the `conv2d` class, [tf.layers.conv2d](https://www.tensorflow.org/api_docs/python/tf/layers/conv2d), you would want to use the TF Neural Network version of `conv2d`, [tf.nn.conv2d](https://www.tensorflow.org/api_docs/python/tf/nn/conv2d). \n",
    "\n",
    "Let's begin!\n",
    "\n",
    "### Input\n",
    "The neural network needs to read the image data, one-hot encoded labels, and dropout keep probability. Implement the following functions\n",
    "* Implement `neural_net_image_input`\n",
    " * Return a [TF Placeholder](https://www.tensorflow.org/api_docs/python/tf/placeholder)\n",
    " * Set the shape using `image_shape` with batch size set to `None`.\n",
    " * Name the TensorFlow placeholder \"x\" using the TensorFlow `name` parameter in the [TF Placeholder](https://www.tensorflow.org/api_docs/python/tf/placeholder).\n",
    "* Implement `neural_net_label_input`\n",
    " * Return a [TF Placeholder](https://www.tensorflow.org/api_docs/python/tf/placeholder)\n",
    " * Set the shape using `n_classes` with batch size set to `None`.\n",
    " * Name the TensorFlow placeholder \"y\" using the TensorFlow `name` parameter in the [TF Placeholder](https://www.tensorflow.org/api_docs/python/tf/placeholder).\n",
    "* Implement `neural_net_keep_prob_input`\n",
    " * Return a [TF Placeholder](https://www.tensorflow.org/api_docs/python/tf/placeholder) for dropout keep probability.\n",
    " * Name the TensorFlow placeholder \"keep_prob\" using the TensorFlow `name` parameter in the [TF Placeholder](https://www.tensorflow.org/api_docs/python/tf/placeholder).\n",
    "\n",
    "These names will be used at the end of the project to load your saved model.\n",
    "\n",
    "Note: `None` for shapes in TensorFlow allow for a dynamic size."
   ]
  },
  {
   "cell_type": "code",
   "execution_count": 7,
   "metadata": {},
   "outputs": [
    {
     "name": "stdout",
     "output_type": "stream",
     "text": [
      "Image Input Tests Passed.\n",
      "Label Input Tests Passed.\n",
      "Keep Prob Tests Passed.\n"
     ]
    }
   ],
   "source": [
    "import tensorflow as tf\n",
    "\n",
    "def neural_net_image_input(image_shape):\n",
    "    \"\"\"\n",
    "    Return a Tensor for a batch of image input\n",
    "    : image_shape: Shape of the images\n",
    "    : return: Tensor for image input.\n",
    "    \"\"\"\n",
    "    # TODO: Implement Function\n",
    "    return tf.placeholder(tf.float32, shape=(None, *image_shape), name='x')\n",
    "\n",
    "\n",
    "def neural_net_label_input(n_classes):\n",
    "    \"\"\"\n",
    "    Return a Tensor for a batch of label input\n",
    "    : n_classes: Number of classes\n",
    "    : return: Tensor for label input.\n",
    "    \"\"\"\n",
    "    # TODO: Implement Function\n",
    "    return tf.placeholder(tf.float32, shape=(None, n_classes), name='y')\n",
    "\n",
    "\n",
    "def neural_net_keep_prob_input():\n",
    "    \"\"\"\n",
    "    Return a Tensor for keep probability\n",
    "    : return: Tensor for keep probability.\n",
    "    \"\"\"\n",
    "    # TODO: Implement Function\n",
    "    return tf.placeholder(tf.float32, name='keep_prob')\n",
    "\n",
    "\n",
    "\"\"\"\n",
    "DON'T MODIFY ANYTHING IN THIS CELL THAT IS BELOW THIS LINE\n",
    "\"\"\"\n",
    "tf.reset_default_graph()\n",
    "tests.test_nn_image_inputs(neural_net_image_input)\n",
    "tests.test_nn_label_inputs(neural_net_label_input)\n",
    "tests.test_nn_keep_prob_inputs(neural_net_keep_prob_input)"
   ]
  },
  {
   "cell_type": "markdown",
   "metadata": {},
   "source": [
    "### Convolution and Max Pooling Layer\n",
    "Convolution layers have a lot of success with images. For this code cell, you should implement the function `conv2d_maxpool` to apply convolution then max pooling:\n",
    "* Create the weight and bias using `conv_ksize`, `conv_num_outputs` and the shape of `x_tensor`.\n",
    "* Apply a convolution to `x_tensor` using weight and `conv_strides`.\n",
    " * We recommend you use same padding, but you're welcome to use any padding.\n",
    "* Add bias\n",
    "* Add a nonlinear activation to the convolution.\n",
    "* Apply Max Pooling using `pool_ksize` and `pool_strides`.\n",
    " * We recommend you use same padding, but you're welcome to use any padding.\n",
    "\n",
    "**Note:** You **can't** use [TensorFlow Layers](https://www.tensorflow.org/api_docs/python/tf/layers) or [TensorFlow Layers (contrib)](https://www.tensorflow.org/api_guides/python/contrib.layers) for **this** layer, but you can still use TensorFlow's [Neural Network](https://www.tensorflow.org/api_docs/python/tf/nn) package. You may still use the shortcut option for all the **other** layers."
   ]
  },
  {
   "cell_type": "code",
   "execution_count": 8,
   "metadata": {},
   "outputs": [
    {
     "name": "stdout",
     "output_type": "stream",
     "text": [
      "Tests Passed\n"
     ]
    }
   ],
   "source": [
    "def conv2d_maxpool(x_tensor, conv_num_outputs, conv_ksize, conv_strides, pool_ksize, pool_strides):\n",
    "    \"\"\"\n",
    "    Apply convolution then max pooling to x_tensor\n",
    "    :param x_tensor: TensorFlow Tensor\n",
    "    :param conv_num_outputs: Number of outputs for the convolutional layer\n",
    "    :param conv_ksize: kernal size 2-D Tuple for the convolutional layer\n",
    "    :param conv_strides: Stride 2-D Tuple for convolution\n",
    "    :param pool_ksize: kernal size 2-D Tuple for pool\n",
    "    :param pool_strides: Stride 2-D Tuple for pool\n",
    "    : return: A tensor that represents convolution and max pooling of x_tensor\n",
    "    \"\"\"\n",
    "    # TODO: Implement Function\n",
    "    bias = tf.Variable(tf.zeros(conv_num_outputs))\n",
    "    depth = x_tensor.get_shape().as_list()[3]\n",
    "    weight = tf.Variable(tf.truncated_normal([*conv_ksize,depth,conv_num_outputs], mean=.0, stddev=.1))\n",
    "    \n",
    "    conv = tf.nn.conv2d(x_tensor, weight, padding='SAME', strides=[1,*conv_strides,1], use_cudnn_on_gpu=True)\n",
    "    conv = tf.nn.bias_add(conv, bias)\n",
    "    conv = tf.nn.relu(conv)\n",
    "    \n",
    "    return tf.nn.max_pool(value=conv, ksize=[1,*pool_ksize,1], strides=[1,*pool_strides,1], padding='SAME')\n",
    "\n",
    "\n",
    "\"\"\"\n",
    "DON'T MODIFY ANYTHING IN THIS CELL THAT IS BELOW THIS LINE\n",
    "\"\"\"\n",
    "tests.test_con_pool(conv2d_maxpool)"
   ]
  },
  {
   "cell_type": "markdown",
   "metadata": {},
   "source": [
    "### Flatten Layer\n",
    "Implement the `flatten` function to change the dimension of `x_tensor` from a 4-D tensor to a 2-D tensor.  The output should be the shape (*Batch Size*, *Flattened Image Size*). Shortcut option: you can use classes from the [TensorFlow Layers](https://www.tensorflow.org/api_docs/python/tf/layers) or [TensorFlow Layers (contrib)](https://www.tensorflow.org/api_guides/python/contrib.layers) packages for this layer. For more of a challenge, only use other TensorFlow packages."
   ]
  },
  {
   "cell_type": "code",
   "execution_count": 9,
   "metadata": {},
   "outputs": [
    {
     "name": "stdout",
     "output_type": "stream",
     "text": [
      "Tests Passed\n"
     ]
    }
   ],
   "source": [
    "def flatten(x_tensor):\n",
    "    \"\"\"\n",
    "    Flatten x_tensor to (Batch Size, Flattened Image Size)\n",
    "    : x_tensor: A tensor of size (Batch Size, ...), where ... are the image dimensions.\n",
    "    : return: A tensor of size (Batch Size, Flattened Image Size).\n",
    "    \"\"\"\n",
    "    # TODO: Implement Function\n",
    "    shape = x_tensor.get_shape().as_list()\n",
    "    return tf.reshape(x_tensor, [-1, np.prod(shape[1:])])\n",
    "\n",
    "\n",
    "\"\"\"\n",
    "DON'T MODIFY ANYTHING IN THIS CELL THAT IS BELOW THIS LINE\n",
    "\"\"\"\n",
    "tests.test_flatten(flatten)"
   ]
  },
  {
   "cell_type": "markdown",
   "metadata": {},
   "source": [
    "### Fully-Connected Layer\n",
    "Implement the `fully_conn` function to apply a fully connected layer to `x_tensor` with the shape (*Batch Size*, *num_outputs*). Shortcut option: you can use classes from the [TensorFlow Layers](https://www.tensorflow.org/api_docs/python/tf/layers) or [TensorFlow Layers (contrib)](https://www.tensorflow.org/api_guides/python/contrib.layers) packages for this layer. For more of a challenge, only use other TensorFlow packages."
   ]
  },
  {
   "cell_type": "code",
   "execution_count": 10,
   "metadata": {},
   "outputs": [
    {
     "name": "stdout",
     "output_type": "stream",
     "text": [
      "Tests Passed\n"
     ]
    }
   ],
   "source": [
    "def fully_conn(x_tensor, num_outputs):\n",
    "    \"\"\"\n",
    "    Apply a fully connected layer to x_tensor using weight and bias\n",
    "    : x_tensor: A 2-D tensor where the first dimension is batch size.\n",
    "    : num_outputs: The number of output that the new tensor should be.\n",
    "    : return: A 2-D tensor where the second dimension is num_outputs.\n",
    "    \"\"\"\n",
    "    # TODO: Implement Function\n",
    "    batch_size = x_tensor.get_shape().as_list()\n",
    "    weights = tf.Variable(tf.truncated_normal([batch_size[-1], num_outputs], mean=.0, stddev=.1))\n",
    "    bias = tf.Variable(tf.zeros([num_outputs]))\n",
    "    return tf.nn.relu(tf.nn.bias_add(tf.matmul(x_tensor, weights), bias))\n",
    "\n",
    "\n",
    "\"\"\"\n",
    "DON'T MODIFY ANYTHING IN THIS CELL THAT IS BELOW THIS LINE\n",
    "\"\"\"\n",
    "tests.test_fully_conn(fully_conn)"
   ]
  },
  {
   "cell_type": "markdown",
   "metadata": {},
   "source": [
    "### Output Layer\n",
    "Implement the `output` function to apply a fully connected layer to `x_tensor` with the shape (*Batch Size*, *num_outputs*). Shortcut option: you can use classes from the [TensorFlow Layers](https://www.tensorflow.org/api_docs/python/tf/layers) or [TensorFlow Layers (contrib)](https://www.tensorflow.org/api_guides/python/contrib.layers) packages for this layer. For more of a challenge, only use other TensorFlow packages.\n",
    "\n",
    "**Note:** Activation, softmax, or cross entropy should **not** be applied to this."
   ]
  },
  {
   "cell_type": "code",
   "execution_count": 11,
   "metadata": {},
   "outputs": [
    {
     "name": "stdout",
     "output_type": "stream",
     "text": [
      "Tests Passed\n"
     ]
    }
   ],
   "source": [
    "def output(x_tensor, num_outputs):\n",
    "    \"\"\"\n",
    "    Apply a output layer to x_tensor using weight and bias\n",
    "    : x_tensor: A 2-D tensor where the first dimension is batch size.\n",
    "    : num_outputs: The number of output that the new tensor should be.\n",
    "    : return: A 2-D tensor where the second dimension is num_outputs.\n",
    "    \"\"\"\n",
    "    # TODO: Implement Function\n",
    "    depth = x_tensor.get_shape().as_list()\n",
    "    weights = tf.Variable(tf.random_normal([depth[-1], num_outputs]))\n",
    "    bias = tf.Variable(tf.zeros(num_outputs))\n",
    "    return tf.add(tf.matmul(x_tensor, weights), bias)\n",
    "\n",
    "\n",
    "\"\"\"\n",
    "DON'T MODIFY ANYTHING IN THIS CELL THAT IS BELOW THIS LINE\n",
    "\"\"\"\n",
    "tests.test_output(output)"
   ]
  },
  {
   "cell_type": "markdown",
   "metadata": {},
   "source": [
    "### Create Convolutional Model\n",
    "Implement the function `conv_net` to create a convolutional neural network model. The function takes in a batch of images, `x`, and outputs logits.  Use the layers you created above to create this model:\n",
    "\n",
    "* Apply 1, 2, or 3 Convolution and Max Pool layers\n",
    "* Apply a Flatten Layer\n",
    "* Apply 1, 2, or 3 Fully Connected Layers\n",
    "* Apply an Output Layer\n",
    "* Return the output\n",
    "* Apply [TensorFlow's Dropout](https://www.tensorflow.org/api_docs/python/tf/nn/dropout) to one or more layers in the model using `keep_prob`. "
   ]
  },
  {
   "cell_type": "code",
   "execution_count": 12,
   "metadata": {},
   "outputs": [
    {
     "name": "stdout",
     "output_type": "stream",
     "text": [
      "Neural Network Built!\n"
     ]
    }
   ],
   "source": [
    "def conv_net(x, keep_prob):\n",
    "    \"\"\"\n",
    "    Create a convolutional neural network model\n",
    "    : x: Placeholder tensor that holds image data.\n",
    "    : keep_prob: Placeholder tensor that hold dropout keep probability.\n",
    "    : return: Tensor that represents logits\n",
    "    \"\"\"\n",
    "    # TODO: Apply 1, 2, or 3 Convolution and Max Pool layers\n",
    "    #    Play around with different number of outputs, kernel size and stride\n",
    "    # Function Definition from Above:\n",
    "    #    conv2d_maxpool(x_tensor, conv_num_outputs, conv_ksize, conv_strides, pool_ksize, pool_strides)\n",
    "    conv1 = conv2d_maxpool(x, 64, [4, 4], [1, 1], [2, 2], [2, 2])\n",
    "    conv2 = conv2d_maxpool(conv1, 128, [2, 2], [1, 1], [2, 2], [2, 2])   \n",
    "\n",
    "    # TODO: Apply a Flatten Layer\n",
    "    # Function Definition from Above:\n",
    "    #   flatten(x_tensor)\n",
    "    flt = flatten(conv2)   \n",
    "\n",
    "    # TODO: Apply 1, 2, or 3 Fully Connected Layers\n",
    "    #    Play around with different number of outputs\n",
    "    # Function Definition from Above:\n",
    "    #   fully_conn(x_tensor, num_outputs)\n",
    "    fc1 = fully_conn(flt, 288)\n",
    "    fc1_d = tf.nn.dropout(fc1, keep_prob=keep_prob)\n",
    "    \n",
    "    fc2 = fully_conn(fc1_d, 144)\n",
    "    fc2_d = tf.nn.dropout(fc2, keep_prob=keep_prob)  \n",
    "    \n",
    "    fc3 = fully_conn(fc2_d, 36)\n",
    "    fc3_d = tf.nn.dropout(fc3, keep_prob=keep_prob)   \n",
    "    \n",
    "    # TODO: Apply an Output Layer\n",
    "    #    Set this to the number of classes\n",
    "    # Function Definition from Above:\n",
    "    #   output(x_tensor, num_outputs)\n",
    "    out = output(fc3_d, 10)   \n",
    "    \n",
    "    # TODO: return output\n",
    "    return out\n",
    "\n",
    "\n",
    "\"\"\"\n",
    "DON'T MODIFY ANYTHING IN THIS CELL THAT IS BELOW THIS LINE\n",
    "\"\"\"\n",
    "\n",
    "##############################\n",
    "## Build the Neural Network ##\n",
    "##############################\n",
    "\n",
    "# Remove previous weights, bias, inputs, etc..\n",
    "tf.reset_default_graph()\n",
    "\n",
    "# Inputs\n",
    "x = neural_net_image_input((32, 32, 3))\n",
    "y = neural_net_label_input(10)\n",
    "keep_prob = neural_net_keep_prob_input()\n",
    "\n",
    "# Model\n",
    "logits = conv_net(x, keep_prob)\n",
    "\n",
    "# Name logits Tensor, so that is can be loaded from disk after training\n",
    "logits = tf.identity(logits, name='logits')\n",
    "\n",
    "# Loss and Optimizer\n",
    "cost = tf.reduce_mean(tf.nn.softmax_cross_entropy_with_logits(logits=logits, labels=y))\n",
    "optimizer = tf.train.AdamOptimizer().minimize(cost)\n",
    "\n",
    "# Accuracy\n",
    "correct_pred = tf.equal(tf.argmax(logits, 1), tf.argmax(y, 1))\n",
    "accuracy = tf.reduce_mean(tf.cast(correct_pred, tf.float32), name='accuracy')\n",
    "\n",
    "tests.test_conv_net(conv_net)"
   ]
  },
  {
   "cell_type": "markdown",
   "metadata": {},
   "source": [
    "## Train the Neural Network\n",
    "### Single Optimization\n",
    "Implement the function `train_neural_network` to do a single optimization.  The optimization should use `optimizer` to optimize in `session` with a `feed_dict` of the following:\n",
    "* `x` for image input\n",
    "* `y` for labels\n",
    "* `keep_prob` for keep probability for dropout\n",
    "\n",
    "This function will be called for each batch, so `tf.global_variables_initializer()` has already been called.\n",
    "\n",
    "Note: Nothing needs to be returned. This function is only optimizing the neural network."
   ]
  },
  {
   "cell_type": "code",
   "execution_count": 13,
   "metadata": {},
   "outputs": [
    {
     "name": "stdout",
     "output_type": "stream",
     "text": [
      "Tests Passed\n"
     ]
    }
   ],
   "source": [
    "def train_neural_network(session, optimizer, keep_probability, feature_batch, label_batch):\n",
    "    \"\"\"\n",
    "    Optimize the session on a batch of images and labels\n",
    "    : session: Current TensorFlow session\n",
    "    : optimizer: TensorFlow optimizer function\n",
    "    : keep_probability: keep probability\n",
    "    : feature_batch: Batch of Numpy image data\n",
    "    : label_batch: Batch of Numpy label data\n",
    "    \"\"\"\n",
    "    # TODO: Implement Function\n",
    "    session.run(optimizer, feed_dict={x: feature_batch, y: label_batch, keep_prob: keep_probability})\n",
    "\n",
    "\n",
    "\"\"\"\n",
    "DON'T MODIFY ANYTHING IN THIS CELL THAT IS BELOW THIS LINE\n",
    "\"\"\"\n",
    "tests.test_train_nn(train_neural_network)"
   ]
  },
  {
   "cell_type": "markdown",
   "metadata": {},
   "source": [
    "### Show Stats\n",
    "Implement the function `print_stats` to print loss and validation accuracy.  Use the global variables `valid_features` and `valid_labels` to calculate validation accuracy.  Use a keep probability of `1.0` to calculate the loss and validation accuracy."
   ]
  },
  {
   "cell_type": "code",
   "execution_count": 14,
   "metadata": {
    "collapsed": true
   },
   "outputs": [],
   "source": [
    "def print_stats(session, feature_batch, label_batch, cost, accuracy):\n",
    "    \"\"\"\n",
    "    Print information about loss and validation accuracy\n",
    "    : session: Current TensorFlow session\n",
    "    : feature_batch: Batch of Numpy image data\n",
    "    : label_batch: Batch of Numpy label data\n",
    "    : cost: TensorFlow cost function\n",
    "    : accuracy: TensorFlow accuracy function\n",
    "    \"\"\"\n",
    "    # TODO: Implement Function\n",
    "    loss = session.run(cost, feed_dict={x: feature_batch, y: label_batch, keep_prob: 1.0})\n",
    "    valid_accuracy = session.run(accuracy, feed_dict={x: valid_features, y: valid_labels, keep_prob: 1.0})\n",
    "        \n",
    "    print('Loss: {:>2.4f} | Validation Accuracy: {:.4f}'.format(loss, valid_accuracy))"
   ]
  },
  {
   "cell_type": "markdown",
   "metadata": {},
   "source": [
    "### Hyperparameters\n",
    "Tune the following parameters:\n",
    "* Set `epochs` to the number of iterations until the network stops learning or start overfitting\n",
    "* Set `batch_size` to the highest number that your machine has memory for.  Most people set them to common sizes of memory:\n",
    " * 64\n",
    " * 128\n",
    " * 256\n",
    " * ...\n",
    "* Set `keep_probability` to the probability of keeping a node using dropout"
   ]
  },
  {
   "cell_type": "code",
   "execution_count": 15,
   "metadata": {
    "collapsed": true
   },
   "outputs": [],
   "source": [
    "# TODO: Tune Parameters\n",
    "epochs = 50\n",
    "batch_size = 512\n",
    "keep_probability = .7"
   ]
  },
  {
   "cell_type": "markdown",
   "metadata": {},
   "source": [
    "### Train on a Single CIFAR-10 Batch\n",
    "Instead of training the neural network on all the CIFAR-10 batches of data, let's use a single batch. This should save time while you iterate on the model to get a better accuracy.  Once the final validation accuracy is 50% or greater, run the model on all the data in the next section."
   ]
  },
  {
   "cell_type": "code",
   "execution_count": 16,
   "metadata": {},
   "outputs": [
    {
     "name": "stdout",
     "output_type": "stream",
     "text": [
      "Checking the Training on a Single Batch...\n",
      "Epoch  1, CIFAR-10 Batch 1:  Loss: 2.3022 | Validation Accuracy: 0.0928\n",
      "Epoch  2, CIFAR-10 Batch 1:  Loss: 2.3023 | Validation Accuracy: 0.0960\n",
      "Epoch  3, CIFAR-10 Batch 1:  Loss: 2.3021 | Validation Accuracy: 0.0916\n",
      "Epoch  4, CIFAR-10 Batch 1:  Loss: 2.2769 | Validation Accuracy: 0.1112\n",
      "Epoch  5, CIFAR-10 Batch 1:  Loss: 2.2483 | Validation Accuracy: 0.1358\n",
      "Epoch  6, CIFAR-10 Batch 1:  Loss: 2.1277 | Validation Accuracy: 0.2306\n",
      "Epoch  7, CIFAR-10 Batch 1:  Loss: 2.0418 | Validation Accuracy: 0.2740\n",
      "Epoch  8, CIFAR-10 Batch 1:  Loss: 1.9325 | Validation Accuracy: 0.3136\n",
      "Epoch  9, CIFAR-10 Batch 1:  Loss: 1.8213 | Validation Accuracy: 0.3540\n",
      "Epoch 10, CIFAR-10 Batch 1:  Loss: 1.7390 | Validation Accuracy: 0.3772\n",
      "Epoch 11, CIFAR-10 Batch 1:  Loss: 1.6429 | Validation Accuracy: 0.4006\n",
      "Epoch 12, CIFAR-10 Batch 1:  Loss: 1.5946 | Validation Accuracy: 0.4262\n",
      "Epoch 13, CIFAR-10 Batch 1:  Loss: 1.4877 | Validation Accuracy: 0.4320\n",
      "Epoch 14, CIFAR-10 Batch 1:  Loss: 1.3998 | Validation Accuracy: 0.4524\n",
      "Epoch 15, CIFAR-10 Batch 1:  Loss: 1.3362 | Validation Accuracy: 0.4586\n",
      "Epoch 16, CIFAR-10 Batch 1:  Loss: 1.2602 | Validation Accuracy: 0.4938\n",
      "Epoch 17, CIFAR-10 Batch 1:  Loss: 1.1564 | Validation Accuracy: 0.5016\n",
      "Epoch 18, CIFAR-10 Batch 1:  Loss: 1.0381 | Validation Accuracy: 0.5108\n",
      "Epoch 19, CIFAR-10 Batch 1:  Loss: 1.0301 | Validation Accuracy: 0.5054\n",
      "Epoch 20, CIFAR-10 Batch 1:  Loss: 0.9664 | Validation Accuracy: 0.5336\n",
      "Epoch 21, CIFAR-10 Batch 1:  Loss: 0.8800 | Validation Accuracy: 0.5406\n",
      "Epoch 22, CIFAR-10 Batch 1:  Loss: 0.8472 | Validation Accuracy: 0.5312\n",
      "Epoch 23, CIFAR-10 Batch 1:  Loss: 0.8121 | Validation Accuracy: 0.5274\n",
      "Epoch 24, CIFAR-10 Batch 1:  Loss: 0.7270 | Validation Accuracy: 0.5468\n",
      "Epoch 25, CIFAR-10 Batch 1:  Loss: 0.6628 | Validation Accuracy: 0.5586\n",
      "Epoch 26, CIFAR-10 Batch 1:  Loss: 0.6227 | Validation Accuracy: 0.5538\n",
      "Epoch 27, CIFAR-10 Batch 1:  Loss: 0.5726 | Validation Accuracy: 0.5592\n",
      "Epoch 28, CIFAR-10 Batch 1:  Loss: 0.5766 | Validation Accuracy: 0.5478\n",
      "Epoch 29, CIFAR-10 Batch 1:  Loss: 0.4741 | Validation Accuracy: 0.5578\n",
      "Epoch 30, CIFAR-10 Batch 1:  Loss: 0.4329 | Validation Accuracy: 0.5628\n",
      "Epoch 31, CIFAR-10 Batch 1:  Loss: 0.4053 | Validation Accuracy: 0.5580\n",
      "Epoch 32, CIFAR-10 Batch 1:  Loss: 0.3876 | Validation Accuracy: 0.5602\n",
      "Epoch 33, CIFAR-10 Batch 1:  Loss: 0.3788 | Validation Accuracy: 0.5404\n",
      "Epoch 34, CIFAR-10 Batch 1:  Loss: 0.3619 | Validation Accuracy: 0.5486\n",
      "Epoch 35, CIFAR-10 Batch 1:  Loss: 0.3107 | Validation Accuracy: 0.5638\n",
      "Epoch 36, CIFAR-10 Batch 1:  Loss: 0.3374 | Validation Accuracy: 0.5504\n",
      "Epoch 37, CIFAR-10 Batch 1:  Loss: 0.2437 | Validation Accuracy: 0.5760\n",
      "Epoch 38, CIFAR-10 Batch 1:  Loss: 0.2273 | Validation Accuracy: 0.5810\n",
      "Epoch 39, CIFAR-10 Batch 1:  Loss: 0.1913 | Validation Accuracy: 0.5814\n",
      "Epoch 40, CIFAR-10 Batch 1:  Loss: 0.1887 | Validation Accuracy: 0.5638\n",
      "Epoch 41, CIFAR-10 Batch 1:  Loss: 0.1808 | Validation Accuracy: 0.5576\n",
      "Epoch 42, CIFAR-10 Batch 1:  Loss: 0.1711 | Validation Accuracy: 0.5652\n",
      "Epoch 43, CIFAR-10 Batch 1:  Loss: 0.1355 | Validation Accuracy: 0.5806\n",
      "Epoch 44, CIFAR-10 Batch 1:  Loss: 0.1253 | Validation Accuracy: 0.5822\n",
      "Epoch 45, CIFAR-10 Batch 1:  Loss: 0.1060 | Validation Accuracy: 0.5778\n",
      "Epoch 46, CIFAR-10 Batch 1:  Loss: 0.0970 | Validation Accuracy: 0.5858\n",
      "Epoch 47, CIFAR-10 Batch 1:  Loss: 0.0931 | Validation Accuracy: 0.5790\n",
      "Epoch 48, CIFAR-10 Batch 1:  Loss: 0.0882 | Validation Accuracy: 0.5748\n",
      "Epoch 49, CIFAR-10 Batch 1:  Loss: 0.0655 | Validation Accuracy: 0.5876\n",
      "Epoch 50, CIFAR-10 Batch 1:  Loss: 0.0596 | Validation Accuracy: 0.5878\n"
     ]
    }
   ],
   "source": [
    "\"\"\"\n",
    "DON'T MODIFY ANYTHING IN THIS CELL\n",
    "\"\"\"\n",
    "print('Checking the Training on a Single Batch...')\n",
    "with tf.Session() as sess:\n",
    "    # Initializing the variables\n",
    "    sess.run(tf.global_variables_initializer())\n",
    "    \n",
    "    # Training cycle\n",
    "    for epoch in range(epochs):\n",
    "        batch_i = 1\n",
    "        for batch_features, batch_labels in helper.load_preprocess_training_batch(batch_i, batch_size):\n",
    "            train_neural_network(sess, optimizer, keep_probability, batch_features, batch_labels)\n",
    "        print('Epoch {:>2}, CIFAR-10 Batch {}:  '.format(epoch + 1, batch_i), end='')\n",
    "        print_stats(sess, batch_features, batch_labels, cost, accuracy)"
   ]
  },
  {
   "cell_type": "markdown",
   "metadata": {},
   "source": [
    "### Fully Train the Model\n",
    "Now that you got a good accuracy with a single CIFAR-10 batch, try it with all five batches."
   ]
  },
  {
   "cell_type": "code",
   "execution_count": 17,
   "metadata": {
    "scrolled": true
   },
   "outputs": [
    {
     "name": "stdout",
     "output_type": "stream",
     "text": [
      "Training...\n",
      "Epoch  1, CIFAR-10 Batch 1:  Loss: 2.2986 | Validation Accuracy: 0.1564\n",
      "Epoch  1, CIFAR-10 Batch 2:  Loss: 2.2666 | Validation Accuracy: 0.1856\n",
      "Epoch  1, CIFAR-10 Batch 3:  Loss: 2.1543 | Validation Accuracy: 0.2232\n",
      "Epoch  1, CIFAR-10 Batch 4:  Loss: 2.0703 | Validation Accuracy: 0.2660\n",
      "Epoch  1, CIFAR-10 Batch 5:  Loss: 1.9930 | Validation Accuracy: 0.2878\n",
      "Epoch  2, CIFAR-10 Batch 1:  Loss: 1.9363 | Validation Accuracy: 0.3076\n",
      "Epoch  2, CIFAR-10 Batch 2:  Loss: 1.7864 | Validation Accuracy: 0.3850\n",
      "Epoch  2, CIFAR-10 Batch 3:  Loss: 1.6365 | Validation Accuracy: 0.4214\n",
      "Epoch  2, CIFAR-10 Batch 4:  Loss: 1.6021 | Validation Accuracy: 0.4308\n",
      "Epoch  2, CIFAR-10 Batch 5:  Loss: 1.5861 | Validation Accuracy: 0.4320\n",
      "Epoch  3, CIFAR-10 Batch 1:  Loss: 1.6952 | Validation Accuracy: 0.4152\n",
      "Epoch  3, CIFAR-10 Batch 2:  Loss: 1.5338 | Validation Accuracy: 0.4596\n",
      "Epoch  3, CIFAR-10 Batch 3:  Loss: 1.4185 | Validation Accuracy: 0.4772\n",
      "Epoch  3, CIFAR-10 Batch 4:  Loss: 1.3924 | Validation Accuracy: 0.4962\n",
      "Epoch  3, CIFAR-10 Batch 5:  Loss: 1.3286 | Validation Accuracy: 0.5038\n",
      "Epoch  4, CIFAR-10 Batch 1:  Loss: 1.4099 | Validation Accuracy: 0.5112\n",
      "Epoch  4, CIFAR-10 Batch 2:  Loss: 1.2767 | Validation Accuracy: 0.5346\n",
      "Epoch  4, CIFAR-10 Batch 3:  Loss: 1.1973 | Validation Accuracy: 0.5418\n",
      "Epoch  4, CIFAR-10 Batch 4:  Loss: 1.1681 | Validation Accuracy: 0.5452\n",
      "Epoch  4, CIFAR-10 Batch 5:  Loss: 1.1616 | Validation Accuracy: 0.5612\n",
      "Epoch  5, CIFAR-10 Batch 1:  Loss: 1.2739 | Validation Accuracy: 0.5634\n",
      "Epoch  5, CIFAR-10 Batch 2:  Loss: 1.1359 | Validation Accuracy: 0.5672\n",
      "Epoch  5, CIFAR-10 Batch 3:  Loss: 1.0408 | Validation Accuracy: 0.5844\n",
      "Epoch  5, CIFAR-10 Batch 4:  Loss: 1.0165 | Validation Accuracy: 0.5862\n",
      "Epoch  5, CIFAR-10 Batch 5:  Loss: 1.0555 | Validation Accuracy: 0.5892\n",
      "Epoch  6, CIFAR-10 Batch 1:  Loss: 1.1208 | Validation Accuracy: 0.5836\n",
      "Epoch  6, CIFAR-10 Batch 2:  Loss: 1.0359 | Validation Accuracy: 0.5790\n",
      "Epoch  6, CIFAR-10 Batch 3:  Loss: 0.9102 | Validation Accuracy: 0.6080\n",
      "Epoch  6, CIFAR-10 Batch 4:  Loss: 0.9502 | Validation Accuracy: 0.6002\n",
      "Epoch  6, CIFAR-10 Batch 5:  Loss: 0.9415 | Validation Accuracy: 0.6128\n",
      "Epoch  7, CIFAR-10 Batch 1:  Loss: 1.0260 | Validation Accuracy: 0.6120\n",
      "Epoch  7, CIFAR-10 Batch 2:  Loss: 0.8638 | Validation Accuracy: 0.6212\n",
      "Epoch  7, CIFAR-10 Batch 3:  Loss: 0.8074 | Validation Accuracy: 0.6322\n",
      "Epoch  7, CIFAR-10 Batch 4:  Loss: 0.8246 | Validation Accuracy: 0.6340\n",
      "Epoch  7, CIFAR-10 Batch 5:  Loss: 0.8336 | Validation Accuracy: 0.6242\n",
      "Epoch  8, CIFAR-10 Batch 1:  Loss: 0.8968 | Validation Accuracy: 0.6386\n",
      "Epoch  8, CIFAR-10 Batch 2:  Loss: 0.8068 | Validation Accuracy: 0.6334\n",
      "Epoch  8, CIFAR-10 Batch 3:  Loss: 0.6908 | Validation Accuracy: 0.6506\n",
      "Epoch  8, CIFAR-10 Batch 4:  Loss: 0.7520 | Validation Accuracy: 0.6436\n",
      "Epoch  8, CIFAR-10 Batch 5:  Loss: 0.7779 | Validation Accuracy: 0.6402\n",
      "Epoch  9, CIFAR-10 Batch 1:  Loss: 0.7682 | Validation Accuracy: 0.6546\n",
      "Epoch  9, CIFAR-10 Batch 2:  Loss: 0.6864 | Validation Accuracy: 0.6512\n",
      "Epoch  9, CIFAR-10 Batch 3:  Loss: 0.6303 | Validation Accuracy: 0.6552\n",
      "Epoch  9, CIFAR-10 Batch 4:  Loss: 0.6921 | Validation Accuracy: 0.6430\n",
      "Epoch  9, CIFAR-10 Batch 5:  Loss: 0.7383 | Validation Accuracy: 0.6376\n",
      "Epoch 10, CIFAR-10 Batch 1:  Loss: 0.7182 | Validation Accuracy: 0.6500\n",
      "Epoch 10, CIFAR-10 Batch 2:  Loss: 0.6519 | Validation Accuracy: 0.6528\n",
      "Epoch 10, CIFAR-10 Batch 3:  Loss: 0.5770 | Validation Accuracy: 0.6616\n",
      "Epoch 10, CIFAR-10 Batch 4:  Loss: 0.5928 | Validation Accuracy: 0.6668\n",
      "Epoch 10, CIFAR-10 Batch 5:  Loss: 0.5781 | Validation Accuracy: 0.6646\n",
      "Epoch 11, CIFAR-10 Batch 1:  Loss: 0.6418 | Validation Accuracy: 0.6632\n",
      "Epoch 11, CIFAR-10 Batch 2:  Loss: 0.5773 | Validation Accuracy: 0.6702\n",
      "Epoch 11, CIFAR-10 Batch 3:  Loss: 0.4831 | Validation Accuracy: 0.6746\n",
      "Epoch 11, CIFAR-10 Batch 4:  Loss: 0.5255 | Validation Accuracy: 0.6694\n",
      "Epoch 11, CIFAR-10 Batch 5:  Loss: 0.5687 | Validation Accuracy: 0.6640\n",
      "Epoch 12, CIFAR-10 Batch 1:  Loss: 0.5708 | Validation Accuracy: 0.6700\n",
      "Epoch 12, CIFAR-10 Batch 2:  Loss: 0.5176 | Validation Accuracy: 0.6716\n",
      "Epoch 12, CIFAR-10 Batch 3:  Loss: 0.4423 | Validation Accuracy: 0.6738\n",
      "Epoch 12, CIFAR-10 Batch 4:  Loss: 0.4690 | Validation Accuracy: 0.6706\n",
      "Epoch 12, CIFAR-10 Batch 5:  Loss: 0.5157 | Validation Accuracy: 0.6744\n",
      "Epoch 13, CIFAR-10 Batch 1:  Loss: 0.5077 | Validation Accuracy: 0.6688\n",
      "Epoch 13, CIFAR-10 Batch 2:  Loss: 0.4824 | Validation Accuracy: 0.6610\n",
      "Epoch 13, CIFAR-10 Batch 3:  Loss: 0.4319 | Validation Accuracy: 0.6706\n",
      "Epoch 13, CIFAR-10 Batch 4:  Loss: 0.4322 | Validation Accuracy: 0.6790\n",
      "Epoch 13, CIFAR-10 Batch 5:  Loss: 0.4479 | Validation Accuracy: 0.6720\n",
      "Epoch 14, CIFAR-10 Batch 1:  Loss: 0.4689 | Validation Accuracy: 0.6664\n",
      "Epoch 14, CIFAR-10 Batch 2:  Loss: 0.4147 | Validation Accuracy: 0.6756\n",
      "Epoch 14, CIFAR-10 Batch 3:  Loss: 0.3677 | Validation Accuracy: 0.6792\n",
      "Epoch 14, CIFAR-10 Batch 4:  Loss: 0.4181 | Validation Accuracy: 0.6768\n",
      "Epoch 14, CIFAR-10 Batch 5:  Loss: 0.4021 | Validation Accuracy: 0.6710\n",
      "Epoch 15, CIFAR-10 Batch 1:  Loss: 0.4103 | Validation Accuracy: 0.6798\n",
      "Epoch 15, CIFAR-10 Batch 2:  Loss: 0.4379 | Validation Accuracy: 0.6578\n",
      "Epoch 15, CIFAR-10 Batch 3:  Loss: 0.3330 | Validation Accuracy: 0.6774\n",
      "Epoch 15, CIFAR-10 Batch 4:  Loss: 0.3576 | Validation Accuracy: 0.6784\n",
      "Epoch 15, CIFAR-10 Batch 5:  Loss: 0.3373 | Validation Accuracy: 0.6774\n",
      "Epoch 16, CIFAR-10 Batch 1:  Loss: 0.3641 | Validation Accuracy: 0.6768\n",
      "Epoch 16, CIFAR-10 Batch 2:  Loss: 0.3883 | Validation Accuracy: 0.6832\n",
      "Epoch 16, CIFAR-10 Batch 3:  Loss: 0.3319 | Validation Accuracy: 0.6770\n",
      "Epoch 16, CIFAR-10 Batch 4:  Loss: 0.3490 | Validation Accuracy: 0.6684\n",
      "Epoch 16, CIFAR-10 Batch 5:  Loss: 0.2916 | Validation Accuracy: 0.6892\n",
      "Epoch 17, CIFAR-10 Batch 1:  Loss: 0.3459 | Validation Accuracy: 0.6642\n",
      "Epoch 17, CIFAR-10 Batch 2:  Loss: 0.3455 | Validation Accuracy: 0.6770\n",
      "Epoch 17, CIFAR-10 Batch 3:  Loss: 0.2647 | Validation Accuracy: 0.6872\n",
      "Epoch 17, CIFAR-10 Batch 4:  Loss: 0.2802 | Validation Accuracy: 0.6804\n",
      "Epoch 17, CIFAR-10 Batch 5:  Loss: 0.2268 | Validation Accuracy: 0.6920\n",
      "Epoch 18, CIFAR-10 Batch 1:  Loss: 0.3044 | Validation Accuracy: 0.6798\n",
      "Epoch 18, CIFAR-10 Batch 2:  Loss: 0.2861 | Validation Accuracy: 0.6798\n",
      "Epoch 18, CIFAR-10 Batch 3:  Loss: 0.2212 | Validation Accuracy: 0.6882\n",
      "Epoch 18, CIFAR-10 Batch 4:  Loss: 0.2505 | Validation Accuracy: 0.6742\n",
      "Epoch 18, CIFAR-10 Batch 5:  Loss: 0.2482 | Validation Accuracy: 0.6826\n",
      "Epoch 19, CIFAR-10 Batch 1:  Loss: 0.2782 | Validation Accuracy: 0.6816\n",
      "Epoch 19, CIFAR-10 Batch 2:  Loss: 0.2746 | Validation Accuracy: 0.6846\n",
      "Epoch 19, CIFAR-10 Batch 3:  Loss: 0.2045 | Validation Accuracy: 0.6756\n",
      "Epoch 19, CIFAR-10 Batch 4:  Loss: 0.2642 | Validation Accuracy: 0.6668\n",
      "Epoch 19, CIFAR-10 Batch 5:  Loss: 0.2307 | Validation Accuracy: 0.6808\n",
      "Epoch 20, CIFAR-10 Batch 1:  Loss: 0.2503 | Validation Accuracy: 0.6754\n",
      "Epoch 20, CIFAR-10 Batch 2:  Loss: 0.2256 | Validation Accuracy: 0.6914\n",
      "Epoch 20, CIFAR-10 Batch 3:  Loss: 0.1806 | Validation Accuracy: 0.6876\n",
      "Epoch 20, CIFAR-10 Batch 4:  Loss: 0.1827 | Validation Accuracy: 0.6864\n",
      "Epoch 20, CIFAR-10 Batch 5:  Loss: 0.1963 | Validation Accuracy: 0.6922\n",
      "Epoch 21, CIFAR-10 Batch 1:  Loss: 0.2386 | Validation Accuracy: 0.6872\n",
      "Epoch 21, CIFAR-10 Batch 2:  Loss: 0.1905 | Validation Accuracy: 0.6842\n",
      "Epoch 21, CIFAR-10 Batch 3:  Loss: 0.1922 | Validation Accuracy: 0.6834\n",
      "Epoch 21, CIFAR-10 Batch 4:  Loss: 0.1903 | Validation Accuracy: 0.6752\n",
      "Epoch 21, CIFAR-10 Batch 5:  Loss: 0.1703 | Validation Accuracy: 0.6930\n",
      "Epoch 22, CIFAR-10 Batch 1:  Loss: 0.1896 | Validation Accuracy: 0.6894\n",
      "Epoch 22, CIFAR-10 Batch 2:  Loss: 0.1507 | Validation Accuracy: 0.6950\n",
      "Epoch 22, CIFAR-10 Batch 3:  Loss: 0.1567 | Validation Accuracy: 0.6858\n",
      "Epoch 22, CIFAR-10 Batch 4:  Loss: 0.1425 | Validation Accuracy: 0.6794\n",
      "Epoch 22, CIFAR-10 Batch 5:  Loss: 0.1397 | Validation Accuracy: 0.6960\n",
      "Epoch 23, CIFAR-10 Batch 1:  Loss: 0.1756 | Validation Accuracy: 0.6806\n",
      "Epoch 23, CIFAR-10 Batch 2:  Loss: 0.1556 | Validation Accuracy: 0.6934\n",
      "Epoch 23, CIFAR-10 Batch 3:  Loss: 0.1416 | Validation Accuracy: 0.6842\n",
      "Epoch 23, CIFAR-10 Batch 4:  Loss: 0.1424 | Validation Accuracy: 0.6824\n"
     ]
    },
    {
     "name": "stdout",
     "output_type": "stream",
     "text": [
      "Epoch 23, CIFAR-10 Batch 5:  Loss: 0.1409 | Validation Accuracy: 0.6818\n",
      "Epoch 24, CIFAR-10 Batch 1:  Loss: 0.1526 | Validation Accuracy: 0.6946\n",
      "Epoch 24, CIFAR-10 Batch 2:  Loss: 0.1412 | Validation Accuracy: 0.6848\n",
      "Epoch 24, CIFAR-10 Batch 3:  Loss: 0.1152 | Validation Accuracy: 0.6918\n",
      "Epoch 24, CIFAR-10 Batch 4:  Loss: 0.1133 | Validation Accuracy: 0.6802\n",
      "Epoch 24, CIFAR-10 Batch 5:  Loss: 0.1107 | Validation Accuracy: 0.6974\n",
      "Epoch 25, CIFAR-10 Batch 1:  Loss: 0.1607 | Validation Accuracy: 0.6912\n",
      "Epoch 25, CIFAR-10 Batch 2:  Loss: 0.1207 | Validation Accuracy: 0.6962\n",
      "Epoch 25, CIFAR-10 Batch 3:  Loss: 0.1236 | Validation Accuracy: 0.6780\n",
      "Epoch 25, CIFAR-10 Batch 4:  Loss: 0.1030 | Validation Accuracy: 0.6782\n",
      "Epoch 25, CIFAR-10 Batch 5:  Loss: 0.1134 | Validation Accuracy: 0.6876\n",
      "Epoch 26, CIFAR-10 Batch 1:  Loss: 0.1281 | Validation Accuracy: 0.6884\n",
      "Epoch 26, CIFAR-10 Batch 2:  Loss: 0.1056 | Validation Accuracy: 0.6930\n",
      "Epoch 26, CIFAR-10 Batch 3:  Loss: 0.0988 | Validation Accuracy: 0.6904\n",
      "Epoch 26, CIFAR-10 Batch 4:  Loss: 0.0827 | Validation Accuracy: 0.6764\n",
      "Epoch 26, CIFAR-10 Batch 5:  Loss: 0.0866 | Validation Accuracy: 0.6912\n",
      "Epoch 27, CIFAR-10 Batch 1:  Loss: 0.0884 | Validation Accuracy: 0.6876\n",
      "Epoch 27, CIFAR-10 Batch 2:  Loss: 0.0833 | Validation Accuracy: 0.6980\n",
      "Epoch 27, CIFAR-10 Batch 3:  Loss: 0.0798 | Validation Accuracy: 0.6912\n",
      "Epoch 27, CIFAR-10 Batch 4:  Loss: 0.0744 | Validation Accuracy: 0.6746\n",
      "Epoch 27, CIFAR-10 Batch 5:  Loss: 0.0793 | Validation Accuracy: 0.6864\n",
      "Epoch 28, CIFAR-10 Batch 1:  Loss: 0.1101 | Validation Accuracy: 0.6848\n",
      "Epoch 28, CIFAR-10 Batch 2:  Loss: 0.0997 | Validation Accuracy: 0.6872\n",
      "Epoch 28, CIFAR-10 Batch 3:  Loss: 0.0772 | Validation Accuracy: 0.6888\n",
      "Epoch 28, CIFAR-10 Batch 4:  Loss: 0.0492 | Validation Accuracy: 0.6860\n",
      "Epoch 28, CIFAR-10 Batch 5:  Loss: 0.0613 | Validation Accuracy: 0.6826\n",
      "Epoch 29, CIFAR-10 Batch 1:  Loss: 0.0899 | Validation Accuracy: 0.6938\n",
      "Epoch 29, CIFAR-10 Batch 2:  Loss: 0.0819 | Validation Accuracy: 0.6860\n",
      "Epoch 29, CIFAR-10 Batch 3:  Loss: 0.0534 | Validation Accuracy: 0.6924\n",
      "Epoch 29, CIFAR-10 Batch 4:  Loss: 0.0571 | Validation Accuracy: 0.6842\n",
      "Epoch 29, CIFAR-10 Batch 5:  Loss: 0.0513 | Validation Accuracy: 0.6930\n",
      "Epoch 30, CIFAR-10 Batch 1:  Loss: 0.0778 | Validation Accuracy: 0.6852\n",
      "Epoch 30, CIFAR-10 Batch 2:  Loss: 0.0677 | Validation Accuracy: 0.6970\n",
      "Epoch 30, CIFAR-10 Batch 3:  Loss: 0.0578 | Validation Accuracy: 0.6834\n",
      "Epoch 30, CIFAR-10 Batch 4:  Loss: 0.0614 | Validation Accuracy: 0.6872\n",
      "Epoch 30, CIFAR-10 Batch 5:  Loss: 0.0548 | Validation Accuracy: 0.6950\n",
      "Epoch 31, CIFAR-10 Batch 1:  Loss: 0.0591 | Validation Accuracy: 0.6896\n",
      "Epoch 31, CIFAR-10 Batch 2:  Loss: 0.0663 | Validation Accuracy: 0.6946\n",
      "Epoch 31, CIFAR-10 Batch 3:  Loss: 0.0536 | Validation Accuracy: 0.6862\n",
      "Epoch 31, CIFAR-10 Batch 4:  Loss: 0.0434 | Validation Accuracy: 0.6896\n",
      "Epoch 31, CIFAR-10 Batch 5:  Loss: 0.0547 | Validation Accuracy: 0.6978\n",
      "Epoch 32, CIFAR-10 Batch 1:  Loss: 0.0599 | Validation Accuracy: 0.6890\n",
      "Epoch 32, CIFAR-10 Batch 2:  Loss: 0.0609 | Validation Accuracy: 0.6870\n",
      "Epoch 32, CIFAR-10 Batch 3:  Loss: 0.0545 | Validation Accuracy: 0.6786\n",
      "Epoch 32, CIFAR-10 Batch 4:  Loss: 0.0335 | Validation Accuracy: 0.6856\n",
      "Epoch 32, CIFAR-10 Batch 5:  Loss: 0.0487 | Validation Accuracy: 0.6970\n",
      "Epoch 33, CIFAR-10 Batch 1:  Loss: 0.0427 | Validation Accuracy: 0.7000\n",
      "Epoch 33, CIFAR-10 Batch 2:  Loss: 0.0461 | Validation Accuracy: 0.6912\n",
      "Epoch 33, CIFAR-10 Batch 3:  Loss: 0.0356 | Validation Accuracy: 0.6856\n",
      "Epoch 33, CIFAR-10 Batch 4:  Loss: 0.0284 | Validation Accuracy: 0.6932\n",
      "Epoch 33, CIFAR-10 Batch 5:  Loss: 0.0520 | Validation Accuracy: 0.6850\n",
      "Epoch 34, CIFAR-10 Batch 1:  Loss: 0.0368 | Validation Accuracy: 0.6860\n",
      "Epoch 34, CIFAR-10 Batch 2:  Loss: 0.0417 | Validation Accuracy: 0.6816\n",
      "Epoch 34, CIFAR-10 Batch 3:  Loss: 0.0337 | Validation Accuracy: 0.6926\n",
      "Epoch 34, CIFAR-10 Batch 4:  Loss: 0.0213 | Validation Accuracy: 0.6940\n",
      "Epoch 34, CIFAR-10 Batch 5:  Loss: 0.0412 | Validation Accuracy: 0.7002\n",
      "Epoch 35, CIFAR-10 Batch 1:  Loss: 0.0374 | Validation Accuracy: 0.6864\n",
      "Epoch 35, CIFAR-10 Batch 2:  Loss: 0.0413 | Validation Accuracy: 0.6950\n",
      "Epoch 35, CIFAR-10 Batch 3:  Loss: 0.0315 | Validation Accuracy: 0.6902\n",
      "Epoch 35, CIFAR-10 Batch 4:  Loss: 0.0261 | Validation Accuracy: 0.6860\n",
      "Epoch 35, CIFAR-10 Batch 5:  Loss: 0.0327 | Validation Accuracy: 0.6988\n",
      "Epoch 36, CIFAR-10 Batch 1:  Loss: 0.0314 | Validation Accuracy: 0.6998\n",
      "Epoch 36, CIFAR-10 Batch 2:  Loss: 0.0266 | Validation Accuracy: 0.6946\n",
      "Epoch 36, CIFAR-10 Batch 3:  Loss: 0.0384 | Validation Accuracy: 0.6948\n",
      "Epoch 36, CIFAR-10 Batch 4:  Loss: 0.0178 | Validation Accuracy: 0.6892\n",
      "Epoch 36, CIFAR-10 Batch 5:  Loss: 0.0389 | Validation Accuracy: 0.6976\n",
      "Epoch 37, CIFAR-10 Batch 1:  Loss: 0.0271 | Validation Accuracy: 0.6954\n",
      "Epoch 37, CIFAR-10 Batch 2:  Loss: 0.0305 | Validation Accuracy: 0.6882\n",
      "Epoch 37, CIFAR-10 Batch 3:  Loss: 0.0228 | Validation Accuracy: 0.6970\n",
      "Epoch 37, CIFAR-10 Batch 4:  Loss: 0.0198 | Validation Accuracy: 0.6964\n",
      "Epoch 37, CIFAR-10 Batch 5:  Loss: 0.0291 | Validation Accuracy: 0.7018\n",
      "Epoch 38, CIFAR-10 Batch 1:  Loss: 0.0327 | Validation Accuracy: 0.6904\n",
      "Epoch 38, CIFAR-10 Batch 2:  Loss: 0.0271 | Validation Accuracy: 0.7040\n",
      "Epoch 38, CIFAR-10 Batch 3:  Loss: 0.0343 | Validation Accuracy: 0.6998\n",
      "Epoch 38, CIFAR-10 Batch 4:  Loss: 0.0118 | Validation Accuracy: 0.6958\n",
      "Epoch 38, CIFAR-10 Batch 5:  Loss: 0.0318 | Validation Accuracy: 0.6948\n",
      "Epoch 39, CIFAR-10 Batch 1:  Loss: 0.0334 | Validation Accuracy: 0.6982\n",
      "Epoch 39, CIFAR-10 Batch 2:  Loss: 0.0295 | Validation Accuracy: 0.6906\n",
      "Epoch 39, CIFAR-10 Batch 3:  Loss: 0.0232 | Validation Accuracy: 0.7008\n",
      "Epoch 39, CIFAR-10 Batch 4:  Loss: 0.0179 | Validation Accuracy: 0.6944\n",
      "Epoch 39, CIFAR-10 Batch 5:  Loss: 0.0229 | Validation Accuracy: 0.7018\n",
      "Epoch 40, CIFAR-10 Batch 1:  Loss: 0.0235 | Validation Accuracy: 0.6990\n",
      "Epoch 40, CIFAR-10 Batch 2:  Loss: 0.0302 | Validation Accuracy: 0.6880\n",
      "Epoch 40, CIFAR-10 Batch 3:  Loss: 0.0175 | Validation Accuracy: 0.6968\n",
      "Epoch 40, CIFAR-10 Batch 4:  Loss: 0.0104 | Validation Accuracy: 0.6886\n",
      "Epoch 40, CIFAR-10 Batch 5:  Loss: 0.0196 | Validation Accuracy: 0.6930\n",
      "Epoch 41, CIFAR-10 Batch 1:  Loss: 0.0188 | Validation Accuracy: 0.6954\n",
      "Epoch 41, CIFAR-10 Batch 2:  Loss: 0.0152 | Validation Accuracy: 0.6922\n",
      "Epoch 41, CIFAR-10 Batch 3:  Loss: 0.0172 | Validation Accuracy: 0.6968\n",
      "Epoch 41, CIFAR-10 Batch 4:  Loss: 0.0075 | Validation Accuracy: 0.6946\n",
      "Epoch 41, CIFAR-10 Batch 5:  Loss: 0.0158 | Validation Accuracy: 0.6978\n",
      "Epoch 42, CIFAR-10 Batch 1:  Loss: 0.0236 | Validation Accuracy: 0.6946\n",
      "Epoch 42, CIFAR-10 Batch 2:  Loss: 0.0148 | Validation Accuracy: 0.6938\n",
      "Epoch 42, CIFAR-10 Batch 3:  Loss: 0.0138 | Validation Accuracy: 0.6902\n",
      "Epoch 42, CIFAR-10 Batch 4:  Loss: 0.0072 | Validation Accuracy: 0.6916\n",
      "Epoch 42, CIFAR-10 Batch 5:  Loss: 0.0109 | Validation Accuracy: 0.6980\n",
      "Epoch 43, CIFAR-10 Batch 1:  Loss: 0.0234 | Validation Accuracy: 0.6916\n",
      "Epoch 43, CIFAR-10 Batch 2:  Loss: 0.0113 | Validation Accuracy: 0.6924\n",
      "Epoch 43, CIFAR-10 Batch 3:  Loss: 0.0106 | Validation Accuracy: 0.6918\n",
      "Epoch 43, CIFAR-10 Batch 4:  Loss: 0.0074 | Validation Accuracy: 0.6924\n",
      "Epoch 43, CIFAR-10 Batch 5:  Loss: 0.0123 | Validation Accuracy: 0.6968\n",
      "Epoch 44, CIFAR-10 Batch 1:  Loss: 0.0168 | Validation Accuracy: 0.6868\n",
      "Epoch 44, CIFAR-10 Batch 2:  Loss: 0.0210 | Validation Accuracy: 0.6850\n",
      "Epoch 44, CIFAR-10 Batch 3:  Loss: 0.0086 | Validation Accuracy: 0.6926\n",
      "Epoch 44, CIFAR-10 Batch 4:  Loss: 0.0100 | Validation Accuracy: 0.7012\n",
      "Epoch 44, CIFAR-10 Batch 5:  Loss: 0.0085 | Validation Accuracy: 0.6976\n",
      "Epoch 45, CIFAR-10 Batch 1:  Loss: 0.0121 | Validation Accuracy: 0.6872\n",
      "Epoch 45, CIFAR-10 Batch 2:  Loss: 0.0140 | Validation Accuracy: 0.6858\n",
      "Epoch 45, CIFAR-10 Batch 3:  Loss: 0.0067 | Validation Accuracy: 0.6974\n",
      "Epoch 45, CIFAR-10 Batch 4:  Loss: 0.0066 | Validation Accuracy: 0.6980\n",
      "Epoch 45, CIFAR-10 Batch 5:  Loss: 0.0151 | Validation Accuracy: 0.6948\n",
      "Epoch 46, CIFAR-10 Batch 1:  Loss: 0.0135 | Validation Accuracy: 0.7008\n",
      "Epoch 46, CIFAR-10 Batch 2:  Loss: 0.0189 | Validation Accuracy: 0.6864\n",
      "Epoch 46, CIFAR-10 Batch 3:  Loss: 0.0111 | Validation Accuracy: 0.6888\n"
     ]
    },
    {
     "name": "stdout",
     "output_type": "stream",
     "text": [
      "Epoch 46, CIFAR-10 Batch 4:  Loss: 0.0056 | Validation Accuracy: 0.6946\n",
      "Epoch 46, CIFAR-10 Batch 5:  Loss: 0.0057 | Validation Accuracy: 0.7026\n",
      "Epoch 47, CIFAR-10 Batch 1:  Loss: 0.0087 | Validation Accuracy: 0.6954\n",
      "Epoch 47, CIFAR-10 Batch 2:  Loss: 0.0076 | Validation Accuracy: 0.6952\n",
      "Epoch 47, CIFAR-10 Batch 3:  Loss: 0.0059 | Validation Accuracy: 0.6944\n",
      "Epoch 47, CIFAR-10 Batch 4:  Loss: 0.0088 | Validation Accuracy: 0.7014\n",
      "Epoch 47, CIFAR-10 Batch 5:  Loss: 0.0060 | Validation Accuracy: 0.6990\n",
      "Epoch 48, CIFAR-10 Batch 1:  Loss: 0.0163 | Validation Accuracy: 0.6940\n",
      "Epoch 48, CIFAR-10 Batch 2:  Loss: 0.0110 | Validation Accuracy: 0.6934\n",
      "Epoch 48, CIFAR-10 Batch 3:  Loss: 0.0072 | Validation Accuracy: 0.7000\n",
      "Epoch 48, CIFAR-10 Batch 4:  Loss: 0.0054 | Validation Accuracy: 0.7018\n",
      "Epoch 48, CIFAR-10 Batch 5:  Loss: 0.0070 | Validation Accuracy: 0.7042\n",
      "Epoch 49, CIFAR-10 Batch 1:  Loss: 0.0183 | Validation Accuracy: 0.7024\n",
      "Epoch 49, CIFAR-10 Batch 2:  Loss: 0.0093 | Validation Accuracy: 0.6952\n",
      "Epoch 49, CIFAR-10 Batch 3:  Loss: 0.0087 | Validation Accuracy: 0.6968\n",
      "Epoch 49, CIFAR-10 Batch 4:  Loss: 0.0056 | Validation Accuracy: 0.7030\n",
      "Epoch 49, CIFAR-10 Batch 5:  Loss: 0.0038 | Validation Accuracy: 0.7020\n",
      "Epoch 50, CIFAR-10 Batch 1:  Loss: 0.0111 | Validation Accuracy: 0.6968\n",
      "Epoch 50, CIFAR-10 Batch 2:  Loss: 0.0068 | Validation Accuracy: 0.6910\n",
      "Epoch 50, CIFAR-10 Batch 3:  Loss: 0.0096 | Validation Accuracy: 0.6886\n",
      "Epoch 50, CIFAR-10 Batch 4:  Loss: 0.0047 | Validation Accuracy: 0.7016\n",
      "Epoch 50, CIFAR-10 Batch 5:  Loss: 0.0066 | Validation Accuracy: 0.6980\n"
     ]
    }
   ],
   "source": [
    "\"\"\"\n",
    "DON'T MODIFY ANYTHING IN THIS CELL\n",
    "\"\"\"\n",
    "save_model_path = './image_classification'\n",
    "\n",
    "print('Training...')\n",
    "with tf.Session() as sess:\n",
    "    # Initializing the variables\n",
    "    sess.run(tf.global_variables_initializer())\n",
    "    \n",
    "    # Training cycle\n",
    "    for epoch in range(epochs):\n",
    "        # Loop over all batches\n",
    "        n_batches = 5\n",
    "        for batch_i in range(1, n_batches + 1):\n",
    "            for batch_features, batch_labels in helper.load_preprocess_training_batch(batch_i, batch_size):\n",
    "                train_neural_network(sess, optimizer, keep_probability, batch_features, batch_labels)\n",
    "            print('Epoch {:>2}, CIFAR-10 Batch {}:  '.format(epoch + 1, batch_i), end='')\n",
    "            print_stats(sess, batch_features, batch_labels, cost, accuracy)\n",
    "            \n",
    "    # Save Model\n",
    "    saver = tf.train.Saver()\n",
    "    save_path = saver.save(sess, save_model_path)"
   ]
  },
  {
   "cell_type": "markdown",
   "metadata": {},
   "source": [
    "# Checkpoint\n",
    "The model has been saved to disk.\n",
    "## Test Model\n",
    "Test your model against the test dataset.  This will be your final accuracy. You should have an accuracy greater than 50%. If you don't, keep tweaking the model architecture and parameters."
   ]
  },
  {
   "cell_type": "code",
   "execution_count": 21,
   "metadata": {},
   "outputs": [
    {
     "name": "stdout",
     "output_type": "stream",
     "text": [
      "Testing Accuracy: 0.6962775766849518\n",
      "\n"
     ]
    },
    {
     "data": {
      "image/png": "[encoded data removed]",
      "text/plain": [
       "<matplotlib.figure.Figure at 0x7f24bcb5a5f8>"
      ]
     },
     "metadata": {
      "image/png": {
       "height": 319,
       "width": 351
      }
     },
     "output_type": "display_data"
    }
   ],
   "source": [
    "\"\"\"\n",
    "DON'T MODIFY ANYTHING IN THIS CELL\n",
    "\"\"\"\n",
    "%matplotlib inline\n",
    "%config InlineBackend.figure_format = 'retina'\n",
    "\n",
    "import tensorflow as tf\n",
    "import pickle\n",
    "import helper\n",
    "import random\n",
    "\n",
    "# Set batch size if not already set\n",
    "try:\n",
    "    if batch_size:\n",
    "        pass\n",
    "except NameError:\n",
    "    batch_size = 64\n",
    "\n",
    "save_model_path = './image_classification'\n",
    "n_samples = 4\n",
    "top_n_predictions = 3\n",
    "\n",
    "def test_model():\n",
    "    \"\"\"\n",
    "    Test the saved model against the test dataset\n",
    "    \"\"\"\n",
    "\n",
    "    test_features, test_labels = pickle.load(open('preprocess_test.p', mode='rb'))\n",
    "    loaded_graph = tf.Graph()\n",
    "\n",
    "    with tf.Session(graph=loaded_graph) as sess:\n",
    "        # Load model\n",
    "        loader = tf.train.import_meta_graph(save_model_path + '.meta')\n",
    "        loader.restore(sess, save_model_path)\n",
    "\n",
    "        # Get Tensors from loaded model\n",
    "        loaded_x = loaded_graph.get_tensor_by_name('x:0')\n",
    "        loaded_y = loaded_graph.get_tensor_by_name('y:0')\n",
    "        loaded_keep_prob = loaded_graph.get_tensor_by_name('keep_prob:0')\n",
    "        loaded_logits = loaded_graph.get_tensor_by_name('logits:0')\n",
    "        loaded_acc = loaded_graph.get_tensor_by_name('accuracy:0')\n",
    "        \n",
    "        # Get accuracy in batches for memory limitations\n",
    "        test_batch_acc_total = 0\n",
    "        test_batch_count = 0\n",
    "        \n",
    "        for test_feature_batch, test_label_batch in helper.batch_features_labels(test_features, test_labels, batch_size):\n",
    "            test_batch_acc_total += sess.run(\n",
    "                loaded_acc,\n",
    "                feed_dict={loaded_x: test_feature_batch, loaded_y: test_label_batch, loaded_keep_prob: 1.0})\n",
    "            test_batch_count += 1\n",
    "\n",
    "        print('Testing Accuracy: {}\\n'.format(test_batch_acc_total/test_batch_count))\n",
    "\n",
    "        # Print Random Samples\n",
    "        random_test_features, random_test_labels = tuple(zip(*random.sample(list(zip(test_features, test_labels)), n_samples)))\n",
    "        random_test_predictions = sess.run(\n",
    "            tf.nn.top_k(tf.nn.softmax(loaded_logits), top_n_predictions),\n",
    "            feed_dict={loaded_x: random_test_features, loaded_y: random_test_labels, loaded_keep_prob: 1.0})\n",
    "        helper.display_image_predictions(random_test_features, random_test_labels, random_test_predictions)\n",
    "\n",
    "\n",
    "test_model()"
   ]
  },
  {
   "cell_type": "markdown",
   "metadata": {},
   "source": [
    "## Why 50-80% Accuracy?\n",
    "You might be wondering why you can't get an accuracy any higher. First things first, 50% isn't bad for a simple CNN.  Pure guessing would get you 10% accuracy. However, you might notice people are getting scores [well above 80%](http://rodrigob.github.io/are_we_there_yet/build/classification_datasets_results.html#43494641522d3130).  That's because we haven't taught you all there is to know about neural networks. We still need to cover a few more techniques.\n",
    "## Submitting This Project\n",
    "When submitting this project, make sure to run all the cells before saving the notebook.  Save the notebook file as \"dlnd_image_classification.ipynb\" and save it as a HTML file under \"File\" -> \"Download as\".  Include the \"helper.py\" and \"problem_unittests.py\" files in your submission."
   ]
  },
  {
   "cell_type": "markdown",
   "metadata": {},
   "source": [
    "### End Of File"
   ]
  }
 ],
 "metadata": {
  "kernelspec": {
   "display_name": "Python 3",
   "language": "python",
   "name": "python3"
  },
  "language_info": {
   "codemirror_mode": {
    "name": "ipython",
    "version": 3
   },
   "file_extension": ".py",
   "mimetype": "text/x-python",
   "name": "python",
   "nbconvert_exporter": "python",
   "pygments_lexer": "ipython3",
   "version": "3.5.3"
  }
 },
 "nbformat": 4,
 "nbformat_minor": 1
}
