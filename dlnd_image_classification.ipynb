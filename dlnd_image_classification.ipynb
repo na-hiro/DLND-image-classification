{
 "cells": [
  {
   "cell_type": "markdown",
   "metadata": {
    "collapsed": true
   },
   "source": [
    "# Image Classification\n",
    "In this project, you'll classify images from the [CIFAR-10 dataset](https://www.cs.toronto.edu/~kriz/cifar.html).  The dataset consists of airplanes, dogs, cats, and other objects. You'll preprocess the images, then train a convolutional neural network on all the samples. The images need to be normalized and the labels need to be one-hot encoded.  You'll get to apply what you learned and build a convolutional, max pooling, dropout, and fully connected layers.  At the end, you'll get to see your neural network's predictions on the sample images.\n",
    "## Get the Data\n",
    "Run the following cell to download the [CIFAR-10 dataset for python](https://www.cs.toronto.edu/~kriz/cifar-10-python.tar.gz)."
   ]
  },
  {
   "cell_type": "code",
   "execution_count": 1,
   "metadata": {},
   "outputs": [
    {
     "name": "stdout",
     "output_type": "stream",
     "text": [
      "All files found!\n"
     ]
    }
   ],
   "source": [
    "\"\"\"\n",
    "DON'T MODIFY ANYTHING IN THIS CELL THAT IS BELOW THIS LINE\n",
    "\"\"\"\n",
    "from urllib.request import urlretrieve\n",
    "from os.path import isfile, isdir\n",
    "from tqdm import tqdm\n",
    "import problem_unittests as tests\n",
    "import tarfile\n",
    "\n",
    "cifar10_dataset_folder_path = 'cifar-10-batches-py'\n",
    "\n",
    "# Use Floyd's cifar-10 dataset if present\n",
    "floyd_cifar10_location = '/input/cifar-10/python.tar.gz'\n",
    "if isfile(floyd_cifar10_location):\n",
    "    tar_gz_path = floyd_cifar10_location\n",
    "else:\n",
    "    tar_gz_path = 'cifar-10-python.tar.gz'\n",
    "\n",
    "class DLProgress(tqdm):\n",
    "    last_block = 0\n",
    "\n",
    "    def hook(self, block_num=1, block_size=1, total_size=None):\n",
    "        self.total = total_size\n",
    "        self.update((block_num - self.last_block) * block_size)\n",
    "        self.last_block = block_num\n",
    "\n",
    "if not isfile(tar_gz_path):\n",
    "    with DLProgress(unit='B', unit_scale=True, miniters=1, desc='CIFAR-10 Dataset') as pbar:\n",
    "        urlretrieve(\n",
    "            'https://www.cs.toronto.edu/~kriz/cifar-10-python.tar.gz',\n",
    "            tar_gz_path,\n",
    "            pbar.hook)\n",
    "\n",
    "if not isdir(cifar10_dataset_folder_path):\n",
    "    with tarfile.open(tar_gz_path) as tar:\n",
    "        tar.extractall()\n",
    "        tar.close()\n",
    "\n",
    "\n",
    "tests.test_folder_path(cifar10_dataset_folder_path)"
   ]
  },
  {
   "cell_type": "markdown",
   "metadata": {},
   "source": [
    "## Explore the Data\n",
    "The dataset is broken into batches to prevent your machine from running out of memory.  The CIFAR-10 dataset consists of 5 batches, named `data_batch_1`, `data_batch_2`, etc.. Each batch contains the labels and images that are one of the following:\n",
    "* airplane\n",
    "* automobile\n",
    "* bird\n",
    "* cat\n",
    "* deer\n",
    "* dog\n",
    "* frog\n",
    "* horse\n",
    "* ship\n",
    "* truck\n",
    "\n",
    "Understanding a dataset is part of making predictions on the data.  Play around with the code cell below by changing the `batch_id` and `sample_id`. The `batch_id` is the id for a batch (1-5). The `sample_id` is the id for a image and label pair in the batch.\n",
    "\n",
    "Ask yourself \"What are all possible labels?\", \"What is the range of values for the image data?\", \"Are the labels in order or random?\".  Answers to questions like these will help you preprocess the data and end up with better predictions."
   ]
  },
  {
   "cell_type": "code",
   "execution_count": 2,
   "metadata": {},
   "outputs": [
    {
     "name": "stdout",
     "output_type": "stream",
     "text": [
      "\n",
      "Stats of batch 1:\n",
      "Samples: 10000\n",
      "Label Counts: {0: 1005, 1: 974, 2: 1032, 3: 1016, 4: 999, 5: 937, 6: 1030, 7: 1001, 8: 1025, 9: 981}\n",
      "First 20 Labels: [6, 9, 9, 4, 1, 1, 2, 7, 8, 3, 4, 7, 7, 2, 9, 9, 9, 3, 2, 6]\n",
      "\n",
      "Example of Image 5:\n",
      "Image - Min Value: 0 Max Value: 252\n",
      "Image - Shape: (32, 32, 3)\n",
      "Label - Label Id: 1 Name: automobile\n"
     ]
    },
    {
     "data": {
      "image/png": "[encoded data removed]",
      "text/plain": [
       "<matplotlib.figure.Figure at 0x7fec59ff26a0>"
      ]
     },
     "metadata": {
      "image/png": {
       "height": 250,
       "width": 253
      }
     },
     "output_type": "display_data"
    }
   ],
   "source": [
    "%matplotlib inline\n",
    "%config InlineBackend.figure_format = 'retina'\n",
    "\n",
    "import helper\n",
    "import numpy as np\n",
    "\n",
    "# Explore the dataset\n",
    "batch_id = 1\n",
    "sample_id = 5\n",
    "helper.display_stats(cifar10_dataset_folder_path, batch_id, sample_id)"
   ]
  },
  {
   "cell_type": "markdown",
   "metadata": {},
   "source": [
    "## Implement Preprocess Functions\n",
    "### Normalize\n",
    "In the cell below, implement the `normalize` function to take in image data, `x`, and return it as a normalized Numpy array. The values should be in the range of 0 to 1, inclusive.  The return object should be the same shape as `x`."
   ]
  },
  {
   "cell_type": "code",
   "execution_count": 3,
   "metadata": {},
   "outputs": [
    {
     "name": "stdout",
     "output_type": "stream",
     "text": [
      "Tests Passed\n"
     ]
    }
   ],
   "source": [
    "def normalize(x):\n",
    "    \"\"\"\n",
    "    Normalize a list of sample image data in the range of 0 to 1\n",
    "    : x: List of image data.  The image shape is (32, 32, 3)\n",
    "    : return: Numpy array of normalize data\n",
    "    \"\"\"\n",
    "    # TODO: Implement Function\n",
    "    return x / 255.0\n",
    "\n",
    "\n",
    "\"\"\"\n",
    "DON'T MODIFY ANYTHING IN THIS CELL THAT IS BELOW THIS LINE\n",
    "\"\"\"\n",
    "tests.test_normalize(normalize)"
   ]
  },
  {
   "cell_type": "markdown",
   "metadata": {},
   "source": [
    "### One-hot encode\n",
    "Just like the previous code cell, you'll be implementing a function for preprocessing.  This time, you'll implement the `one_hot_encode` function. The input, `x`, are a list of labels.  Implement the function to return the list of labels as One-Hot encoded Numpy array.  The possible values for labels are 0 to 9. The one-hot encoding function should return the same encoding for each value between each call to `one_hot_encode`.  Make sure to save the map of encodings outside the function.\n",
    "\n",
    "Hint: Don't reinvent the wheel."
   ]
  },
  {
   "cell_type": "code",
   "execution_count": 4,
   "metadata": {},
   "outputs": [
    {
     "name": "stdout",
     "output_type": "stream",
     "text": [
      "Tests Passed\n"
     ]
    }
   ],
   "source": [
    "def one_hot_encode(x):\n",
    "    \"\"\"\n",
    "    One hot encode a list of sample labels. Return a one-hot encoded vector for each label.\n",
    "    : x: List of sample Labels\n",
    "    : return: Numpy array of one-hot encoded labels\n",
    "    \"\"\"\n",
    "    # TODO: Implement Function\n",
    "    y = np.zeros((len(x), 10))\n",
    "    for i in range(len(x)):\n",
    "        y[i, x[i]] = 1\n",
    "    return y\n",
    "\n",
    "\n",
    "\"\"\"\n",
    "DON'T MODIFY ANYTHING IN THIS CELL THAT IS BELOW THIS LINE\n",
    "\"\"\"\n",
    "tests.test_one_hot_encode(one_hot_encode)"
   ]
  },
  {
   "cell_type": "markdown",
   "metadata": {},
   "source": [
    "### Randomize Data\n",
    "As you saw from exploring the data above, the order of the samples are randomized.  It doesn't hurt to randomize it again, but you don't need to for this dataset."
   ]
  },
  {
   "cell_type": "markdown",
   "metadata": {},
   "source": [
    "## Preprocess all the data and save it\n",
    "Running the code cell below will preprocess all the CIFAR-10 data and save it to file. The code below also uses 10% of the training data for validation."
   ]
  },
  {
   "cell_type": "code",
   "execution_count": 5,
   "metadata": {
    "collapsed": true
   },
   "outputs": [],
   "source": [
    "\"\"\"\n",
    "DON'T MODIFY ANYTHING IN THIS CELL\n",
    "\"\"\"\n",
    "# Preprocess Training, Validation, and Testing Data\n",
    "helper.preprocess_and_save_data(cifar10_dataset_folder_path, normalize, one_hot_encode)"
   ]
  },
  {
   "cell_type": "markdown",
   "metadata": {},
   "source": [
    "# Check Point\n",
    "This is your first checkpoint.  If you ever decide to come back to this notebook or have to restart the notebook, you can start from here.  The preprocessed data has been saved to disk."
   ]
  },
  {
   "cell_type": "code",
   "execution_count": 6,
   "metadata": {
    "collapsed": true
   },
   "outputs": [],
   "source": [
    "\"\"\"\n",
    "DON'T MODIFY ANYTHING IN THIS CELL\n",
    "\"\"\"\n",
    "import pickle\n",
    "import problem_unittests as tests\n",
    "import helper\n",
    "\n",
    "# Load the Preprocessed Validation data\n",
    "valid_features, valid_labels = pickle.load(open('preprocess_validation.p', mode='rb'))"
   ]
  },
  {
   "cell_type": "markdown",
   "metadata": {},
   "source": [
    "## Build the network\n",
    "For the neural network, you'll build each layer into a function.  Most of the code you've seen has been outside of functions. To test your code more thoroughly, we require that you put each layer in a function.  This allows us to give you better feedback and test for simple mistakes using our unittests before you submit your project.\n",
    "\n",
    ">**Note:** If you're finding it hard to dedicate enough time for this course each week, we've provided a small shortcut to this part of the project. In the next couple of problems, you'll have the option to use classes from the [TensorFlow Layers](https://www.tensorflow.org/api_docs/python/tf/layers) or [TensorFlow Layers (contrib)](https://www.tensorflow.org/api_guides/python/contrib.layers) packages to build each layer, except the layers you build in the \"Convolutional and Max Pooling Layer\" section.  TF Layers is similar to Keras's and TFLearn's abstraction to layers, so it's easy to pickup.\n",
    "\n",
    ">However, if you would like to get the most out of this course, try to solve all the problems _without_ using anything from the TF Layers packages. You **can** still use classes from other packages that happen to have the same name as ones you find in TF Layers! For example, instead of using the TF Layers version of the `conv2d` class, [tf.layers.conv2d](https://www.tensorflow.org/api_docs/python/tf/layers/conv2d), you would want to use the TF Neural Network version of `conv2d`, [tf.nn.conv2d](https://www.tensorflow.org/api_docs/python/tf/nn/conv2d). \n",
    "\n",
    "Let's begin!\n",
    "\n",
    "### Input\n",
    "The neural network needs to read the image data, one-hot encoded labels, and dropout keep probability. Implement the following functions\n",
    "* Implement `neural_net_image_input`\n",
    " * Return a [TF Placeholder](https://www.tensorflow.org/api_docs/python/tf/placeholder)\n",
    " * Set the shape using `image_shape` with batch size set to `None`.\n",
    " * Name the TensorFlow placeholder \"x\" using the TensorFlow `name` parameter in the [TF Placeholder](https://www.tensorflow.org/api_docs/python/tf/placeholder).\n",
    "* Implement `neural_net_label_input`\n",
    " * Return a [TF Placeholder](https://www.tensorflow.org/api_docs/python/tf/placeholder)\n",
    " * Set the shape using `n_classes` with batch size set to `None`.\n",
    " * Name the TensorFlow placeholder \"y\" using the TensorFlow `name` parameter in the [TF Placeholder](https://www.tensorflow.org/api_docs/python/tf/placeholder).\n",
    "* Implement `neural_net_keep_prob_input`\n",
    " * Return a [TF Placeholder](https://www.tensorflow.org/api_docs/python/tf/placeholder) for dropout keep probability.\n",
    " * Name the TensorFlow placeholder \"keep_prob\" using the TensorFlow `name` parameter in the [TF Placeholder](https://www.tensorflow.org/api_docs/python/tf/placeholder).\n",
    "\n",
    "These names will be used at the end of the project to load your saved model.\n",
    "\n",
    "Note: `None` for shapes in TensorFlow allow for a dynamic size."
   ]
  },
  {
   "cell_type": "code",
   "execution_count": 7,
   "metadata": {},
   "outputs": [
    {
     "name": "stdout",
     "output_type": "stream",
     "text": [
      "Image Input Tests Passed.\n",
      "Label Input Tests Passed.\n",
      "Keep Prob Tests Passed.\n"
     ]
    }
   ],
   "source": [
    "import tensorflow as tf\n",
    "\n",
    "def neural_net_image_input(image_shape):\n",
    "    \"\"\"\n",
    "    Return a Tensor for a batch of image input\n",
    "    : image_shape: Shape of the images\n",
    "    : return: Tensor for image input.\n",
    "    \"\"\"\n",
    "    # TODO: Implement Function\n",
    "    return tf.placeholder(tf.float32, shape=(None, *image_shape), name='x')\n",
    "\n",
    "\n",
    "def neural_net_label_input(n_classes):\n",
    "    \"\"\"\n",
    "    Return a Tensor for a batch of label input\n",
    "    : n_classes: Number of classes\n",
    "    : return: Tensor for label input.\n",
    "    \"\"\"\n",
    "    # TODO: Implement Function\n",
    "    return tf.placeholder(tf.float32, shape=(None, n_classes), name='y')\n",
    "\n",
    "\n",
    "def neural_net_keep_prob_input():\n",
    "    \"\"\"\n",
    "    Return a Tensor for keep probability\n",
    "    : return: Tensor for keep probability.\n",
    "    \"\"\"\n",
    "    # TODO: Implement Function\n",
    "    return tf.placeholder(tf.float32, name='keep_prob')\n",
    "\n",
    "\n",
    "\"\"\"\n",
    "DON'T MODIFY ANYTHING IN THIS CELL THAT IS BELOW THIS LINE\n",
    "\"\"\"\n",
    "tf.reset_default_graph()\n",
    "tests.test_nn_image_inputs(neural_net_image_input)\n",
    "tests.test_nn_label_inputs(neural_net_label_input)\n",
    "tests.test_nn_keep_prob_inputs(neural_net_keep_prob_input)"
   ]
  },
  {
   "cell_type": "markdown",
   "metadata": {},
   "source": [
    "### Convolution and Max Pooling Layer\n",
    "Convolution layers have a lot of success with images. For this code cell, you should implement the function `conv2d_maxpool` to apply convolution then max pooling:\n",
    "* Create the weight and bias using `conv_ksize`, `conv_num_outputs` and the shape of `x_tensor`.\n",
    "* Apply a convolution to `x_tensor` using weight and `conv_strides`.\n",
    " * We recommend you use same padding, but you're welcome to use any padding.\n",
    "* Add bias\n",
    "* Add a nonlinear activation to the convolution.\n",
    "* Apply Max Pooling using `pool_ksize` and `pool_strides`.\n",
    " * We recommend you use same padding, but you're welcome to use any padding.\n",
    "\n",
    "**Note:** You **can't** use [TensorFlow Layers](https://www.tensorflow.org/api_docs/python/tf/layers) or [TensorFlow Layers (contrib)](https://www.tensorflow.org/api_guides/python/contrib.layers) for **this** layer, but you can still use TensorFlow's [Neural Network](https://www.tensorflow.org/api_docs/python/tf/nn) package. You may still use the shortcut option for all the **other** layers."
   ]
  },
  {
   "cell_type": "code",
   "execution_count": 8,
   "metadata": {},
   "outputs": [
    {
     "name": "stdout",
     "output_type": "stream",
     "text": [
      "Tests Passed\n"
     ]
    }
   ],
   "source": [
    "def conv2d_maxpool(x_tensor, conv_num_outputs, conv_ksize, conv_strides, pool_ksize, pool_strides):\n",
    "    \"\"\"\n",
    "    Apply convolution then max pooling to x_tensor\n",
    "    :param x_tensor: TensorFlow Tensor\n",
    "    :param conv_num_outputs: Number of outputs for the convolutional layer\n",
    "    :param conv_ksize: kernal size 2-D Tuple for the convolutional layer\n",
    "    :param conv_strides: Stride 2-D Tuple for convolution\n",
    "    :param pool_ksize: kernal size 2-D Tuple for pool\n",
    "    :param pool_strides: Stride 2-D Tuple for pool\n",
    "    : return: A tensor that represents convolution and max pooling of x_tensor\n",
    "    \"\"\"\n",
    "    # TODO: Implement Function\n",
    "    bias = tf.Variable(tf.zeros(conv_num_outputs))\n",
    "    depth = x_tensor.get_shape().as_list()[3]\n",
    "    weight = tf.Variable(tf.truncated_normal([*conv_ksize,depth,conv_num_outputs], mean=.0, stddev=.1))\n",
    "    \n",
    "    conv = tf.nn.conv2d(x_tensor, weight, padding='SAME', strides=[1,*conv_strides,1], use_cudnn_on_gpu=True)\n",
    "    conv = tf.nn.bias_add(conv, bias)\n",
    "    conv = tf.nn.relu(conv)\n",
    "    \n",
    "    return tf.nn.max_pool(value=conv, ksize=[1,*pool_ksize,1], strides=[1,*pool_strides,1], padding='SAME')\n",
    "\n",
    "\n",
    "\"\"\"\n",
    "DON'T MODIFY ANYTHING IN THIS CELL THAT IS BELOW THIS LINE\n",
    "\"\"\"\n",
    "tests.test_con_pool(conv2d_maxpool)"
   ]
  },
  {
   "cell_type": "markdown",
   "metadata": {},
   "source": [
    "### Flatten Layer\n",
    "Implement the `flatten` function to change the dimension of `x_tensor` from a 4-D tensor to a 2-D tensor.  The output should be the shape (*Batch Size*, *Flattened Image Size*). Shortcut option: you can use classes from the [TensorFlow Layers](https://www.tensorflow.org/api_docs/python/tf/layers) or [TensorFlow Layers (contrib)](https://www.tensorflow.org/api_guides/python/contrib.layers) packages for this layer. For more of a challenge, only use other TensorFlow packages."
   ]
  },
  {
   "cell_type": "code",
   "execution_count": 9,
   "metadata": {},
   "outputs": [
    {
     "name": "stdout",
     "output_type": "stream",
     "text": [
      "Tests Passed\n"
     ]
    }
   ],
   "source": [
    "def flatten(x_tensor):\n",
    "    \"\"\"\n",
    "    Flatten x_tensor to (Batch Size, Flattened Image Size)\n",
    "    : x_tensor: A tensor of size (Batch Size, ...), where ... are the image dimensions.\n",
    "    : return: A tensor of size (Batch Size, Flattened Image Size).\n",
    "    \"\"\"\n",
    "    # TODO: Implement Function\n",
    "    shape = x_tensor.get_shape().as_list()\n",
    "    return tf.reshape(x_tensor, [-1, np.prod(shape[1:])])\n",
    "\n",
    "\n",
    "\"\"\"\n",
    "DON'T MODIFY ANYTHING IN THIS CELL THAT IS BELOW THIS LINE\n",
    "\"\"\"\n",
    "tests.test_flatten(flatten)"
   ]
  },
  {
   "cell_type": "markdown",
   "metadata": {},
   "source": [
    "### Fully-Connected Layer\n",
    "Implement the `fully_conn` function to apply a fully connected layer to `x_tensor` with the shape (*Batch Size*, *num_outputs*). Shortcut option: you can use classes from the [TensorFlow Layers](https://www.tensorflow.org/api_docs/python/tf/layers) or [TensorFlow Layers (contrib)](https://www.tensorflow.org/api_guides/python/contrib.layers) packages for this layer. For more of a challenge, only use other TensorFlow packages."
   ]
  },
  {
   "cell_type": "code",
   "execution_count": 10,
   "metadata": {},
   "outputs": [
    {
     "name": "stdout",
     "output_type": "stream",
     "text": [
      "Tests Passed\n"
     ]
    }
   ],
   "source": [
    "def fully_conn(x_tensor, num_outputs):\n",
    "    \"\"\"\n",
    "    Apply a fully connected layer to x_tensor using weight and bias\n",
    "    : x_tensor: A 2-D tensor where the first dimension is batch size.\n",
    "    : num_outputs: The number of output that the new tensor should be.\n",
    "    : return: A 2-D tensor where the second dimension is num_outputs.\n",
    "    \"\"\"\n",
    "    # TODO: Implement Function\n",
    "    batch_size = x_tensor.get_shape().as_list()\n",
    "    weights = tf.Variable(tf.truncated_normal([batch_size[-1], num_outputs], mean=.0, stddev=.1))\n",
    "    bias = tf.Variable(tf.zeros([num_outputs]))\n",
    "    return tf.nn.relu(tf.nn.bias_add(tf.matmul(x_tensor, weights), bias))\n",
    "\n",
    "\n",
    "\"\"\"\n",
    "DON'T MODIFY ANYTHING IN THIS CELL THAT IS BELOW THIS LINE\n",
    "\"\"\"\n",
    "tests.test_fully_conn(fully_conn)"
   ]
  },
  {
   "cell_type": "markdown",
   "metadata": {},
   "source": [
    "### Output Layer\n",
    "Implement the `output` function to apply a fully connected layer to `x_tensor` with the shape (*Batch Size*, *num_outputs*). Shortcut option: you can use classes from the [TensorFlow Layers](https://www.tensorflow.org/api_docs/python/tf/layers) or [TensorFlow Layers (contrib)](https://www.tensorflow.org/api_guides/python/contrib.layers) packages for this layer. For more of a challenge, only use other TensorFlow packages.\n",
    "\n",
    "**Note:** Activation, softmax, or cross entropy should **not** be applied to this."
   ]
  },
  {
   "cell_type": "code",
   "execution_count": 11,
   "metadata": {},
   "outputs": [
    {
     "name": "stdout",
     "output_type": "stream",
     "text": [
      "Tests Passed\n"
     ]
    }
   ],
   "source": [
    "def output(x_tensor, num_outputs):\n",
    "    \"\"\"\n",
    "    Apply a output layer to x_tensor using weight and bias\n",
    "    : x_tensor: A 2-D tensor where the first dimension is batch size.\n",
    "    : num_outputs: The number of output that the new tensor should be.\n",
    "    : return: A 2-D tensor where the second dimension is num_outputs.\n",
    "    \"\"\"\n",
    "    # TODO: Implement Function\n",
    "    depth = x_tensor.get_shape().as_list()\n",
    "    weights = tf.Variable(tf.random_normal([depth[-1], num_outputs]))\n",
    "    bias = tf.Variable(tf.zeros(num_outputs))\n",
    "    return tf.add(tf.matmul(x_tensor, weights), bias)\n",
    "\n",
    "\n",
    "\"\"\"\n",
    "DON'T MODIFY ANYTHING IN THIS CELL THAT IS BELOW THIS LINE\n",
    "\"\"\"\n",
    "tests.test_output(output)"
   ]
  },
  {
   "cell_type": "markdown",
   "metadata": {},
   "source": [
    "### Create Convolutional Model\n",
    "Implement the function `conv_net` to create a convolutional neural network model. The function takes in a batch of images, `x`, and outputs logits.  Use the layers you created above to create this model:\n",
    "\n",
    "* Apply 1, 2, or 3 Convolution and Max Pool layers\n",
    "* Apply a Flatten Layer\n",
    "* Apply 1, 2, or 3 Fully Connected Layers\n",
    "* Apply an Output Layer\n",
    "* Return the output\n",
    "* Apply [TensorFlow's Dropout](https://www.tensorflow.org/api_docs/python/tf/nn/dropout) to one or more layers in the model using `keep_prob`. "
   ]
  },
  {
   "cell_type": "code",
   "execution_count": 12,
   "metadata": {},
   "outputs": [
    {
     "name": "stdout",
     "output_type": "stream",
     "text": [
      "Neural Network Built!\n"
     ]
    }
   ],
   "source": [
    "def conv_net(x, keep_prob):\n",
    "    \"\"\"\n",
    "    Create a convolutional neural network model\n",
    "    : x: Placeholder tensor that holds image data.\n",
    "    : keep_prob: Placeholder tensor that hold dropout keep probability.\n",
    "    : return: Tensor that represents logits\n",
    "    \"\"\"\n",
    "    # TODO: Apply 1, 2, or 3 Convolution and Max Pool layers\n",
    "    #    Play around with different number of outputs, kernel size and stride\n",
    "    # Function Definition from Above:\n",
    "    #    conv2d_maxpool(x_tensor, conv_num_outputs, conv_ksize, conv_strides, pool_ksize, pool_strides)\n",
    "    conv = conv2d_maxpool(x, 64, [4, 4], [1, 1], [2, 2], [2, 2])\n",
    "    conv = conv2d_maxpool(conv, 128, [2, 2], [1, 1], [2, 2], [2, 2])   \n",
    "    tf.nn.dropout(conv, keep_prob=keep_prob)    \n",
    "\n",
    "    # TODO: Apply a Flatten Layer\n",
    "    # Function Definition from Above:\n",
    "    #   flatten(x_tensor)\n",
    "    conv = flatten(conv)   \n",
    "\n",
    "    # TODO: Apply 1, 2, or 3 Fully Connected Layers\n",
    "    #    Play around with different number of outputs\n",
    "    # Function Definition from Above:\n",
    "    #   fully_conn(x_tensor, num_outputs)\n",
    "    conv = fully_conn(conv, 288)\n",
    "    tf.nn.dropout(conv, keep_prob=keep_prob)\n",
    "    conv = fully_conn(conv, 144)\n",
    "    tf.nn.dropout(conv, keep_prob=keep_prob)    \n",
    "    conv = fully_conn(conv, 36)\n",
    "    tf.nn.dropout(conv, keep_prob=keep_prob)   \n",
    "    \n",
    "    # TODO: Apply an Output Layer\n",
    "    #    Set this to the number of classes\n",
    "    # Function Definition from Above:\n",
    "    #   output(x_tensor, num_outputs)\n",
    "    out = output(conv, 10)   \n",
    "    \n",
    "    # TODO: return output\n",
    "    return out\n",
    "\n",
    "\n",
    "\"\"\"\n",
    "DON'T MODIFY ANYTHING IN THIS CELL THAT IS BELOW THIS LINE\n",
    "\"\"\"\n",
    "\n",
    "##############################\n",
    "## Build the Neural Network ##\n",
    "##############################\n",
    "\n",
    "# Remove previous weights, bias, inputs, etc..\n",
    "tf.reset_default_graph()\n",
    "\n",
    "# Inputs\n",
    "x = neural_net_image_input((32, 32, 3))\n",
    "y = neural_net_label_input(10)\n",
    "keep_prob = neural_net_keep_prob_input()\n",
    "\n",
    "# Model\n",
    "logits = conv_net(x, keep_prob)\n",
    "\n",
    "# Name logits Tensor, so that is can be loaded from disk after training\n",
    "logits = tf.identity(logits, name='logits')\n",
    "\n",
    "# Loss and Optimizer\n",
    "cost = tf.reduce_mean(tf.nn.softmax_cross_entropy_with_logits(logits=logits, labels=y))\n",
    "optimizer = tf.train.AdamOptimizer().minimize(cost)\n",
    "\n",
    "# Accuracy\n",
    "correct_pred = tf.equal(tf.argmax(logits, 1), tf.argmax(y, 1))\n",
    "accuracy = tf.reduce_mean(tf.cast(correct_pred, tf.float32), name='accuracy')\n",
    "\n",
    "tests.test_conv_net(conv_net)"
   ]
  },
  {
   "cell_type": "markdown",
   "metadata": {},
   "source": [
    "## Train the Neural Network\n",
    "### Single Optimization\n",
    "Implement the function `train_neural_network` to do a single optimization.  The optimization should use `optimizer` to optimize in `session` with a `feed_dict` of the following:\n",
    "* `x` for image input\n",
    "* `y` for labels\n",
    "* `keep_prob` for keep probability for dropout\n",
    "\n",
    "This function will be called for each batch, so `tf.global_variables_initializer()` has already been called.\n",
    "\n",
    "Note: Nothing needs to be returned. This function is only optimizing the neural network."
   ]
  },
  {
   "cell_type": "code",
   "execution_count": 13,
   "metadata": {},
   "outputs": [
    {
     "name": "stdout",
     "output_type": "stream",
     "text": [
      "Tests Passed\n"
     ]
    }
   ],
   "source": [
    "def train_neural_network(session, optimizer, keep_probability, feature_batch, label_batch):\n",
    "    \"\"\"\n",
    "    Optimize the session on a batch of images and labels\n",
    "    : session: Current TensorFlow session\n",
    "    : optimizer: TensorFlow optimizer function\n",
    "    : keep_probability: keep probability\n",
    "    : feature_batch: Batch of Numpy image data\n",
    "    : label_batch: Batch of Numpy label data\n",
    "    \"\"\"\n",
    "    # TODO: Implement Function\n",
    "    session.run(optimizer, feed_dict={x: feature_batch, y: label_batch, keep_prob: keep_probability})\n",
    "\n",
    "\n",
    "\"\"\"\n",
    "DON'T MODIFY ANYTHING IN THIS CELL THAT IS BELOW THIS LINE\n",
    "\"\"\"\n",
    "tests.test_train_nn(train_neural_network)"
   ]
  },
  {
   "cell_type": "markdown",
   "metadata": {},
   "source": [
    "### Show Stats\n",
    "Implement the function `print_stats` to print loss and validation accuracy.  Use the global variables `valid_features` and `valid_labels` to calculate validation accuracy.  Use a keep probability of `1.0` to calculate the loss and validation accuracy."
   ]
  },
  {
   "cell_type": "code",
   "execution_count": 14,
   "metadata": {
    "collapsed": true
   },
   "outputs": [],
   "source": [
    "def print_stats(session, feature_batch, label_batch, cost, accuracy):\n",
    "    \"\"\"\n",
    "    Print information about loss and validation accuracy\n",
    "    : session: Current TensorFlow session\n",
    "    : feature_batch: Batch of Numpy image data\n",
    "    : label_batch: Batch of Numpy label data\n",
    "    : cost: TensorFlow cost function\n",
    "    : accuracy: TensorFlow accuracy function\n",
    "    \"\"\"\n",
    "    # TODO: Implement Function\n",
    "    loss = session.run(cost, feed_dict={x: feature_batch, y: label_batch, keep_prob: 1.0})\n",
    "    valid_accuracy = session.run(accuracy, feed_dict={x: valid_features, y: valid_labels, keep_prob: 1.0})\n",
    "        \n",
    "    print('Loss: {:>2.4f} | Validation Accuracy: {:.4f}'.format(loss, valid_accuracy))"
   ]
  },
  {
   "cell_type": "markdown",
   "metadata": {},
   "source": [
    "### Hyperparameters\n",
    "Tune the following parameters:\n",
    "* Set `epochs` to the number of iterations until the network stops learning or start overfitting\n",
    "* Set `batch_size` to the highest number that your machine has memory for.  Most people set them to common sizes of memory:\n",
    " * 64\n",
    " * 128\n",
    " * 256\n",
    " * ...\n",
    "* Set `keep_probability` to the probability of keeping a node using dropout"
   ]
  },
  {
   "cell_type": "code",
   "execution_count": 15,
   "metadata": {
    "collapsed": true
   },
   "outputs": [],
   "source": [
    "# TODO: Tune Parameters\n",
    "epochs = 50\n",
    "batch_size = 512\n",
    "keep_probability = .5"
   ]
  },
  {
   "cell_type": "markdown",
   "metadata": {},
   "source": [
    "### Train on a Single CIFAR-10 Batch\n",
    "Instead of training the neural network on all the CIFAR-10 batches of data, let's use a single batch. This should save time while you iterate on the model to get a better accuracy.  Once the final validation accuracy is 50% or greater, run the model on all the data in the next section."
   ]
  },
  {
   "cell_type": "code",
   "execution_count": 16,
   "metadata": {},
   "outputs": [
    {
     "name": "stdout",
     "output_type": "stream",
     "text": [
      "Checking the Training on a Single Batch...\n",
      "Epoch  1, CIFAR-10 Batch 1:  Loss: 2.1721 | Validation Accuracy: 0.1988\n",
      "Epoch  2, CIFAR-10 Batch 1:  Loss: 1.9869 | Validation Accuracy: 0.2734\n",
      "Epoch  3, CIFAR-10 Batch 1:  Loss: 1.8109 | Validation Accuracy: 0.3520\n",
      "Epoch  4, CIFAR-10 Batch 1:  Loss: 1.6701 | Validation Accuracy: 0.4052\n",
      "Epoch  5, CIFAR-10 Batch 1:  Loss: 1.5101 | Validation Accuracy: 0.4450\n",
      "Epoch  6, CIFAR-10 Batch 1:  Loss: 1.3556 | Validation Accuracy: 0.4674\n",
      "Epoch  7, CIFAR-10 Batch 1:  Loss: 1.2257 | Validation Accuracy: 0.4644\n",
      "Epoch  8, CIFAR-10 Batch 1:  Loss: 1.0915 | Validation Accuracy: 0.5046\n",
      "Epoch  9, CIFAR-10 Batch 1:  Loss: 1.1395 | Validation Accuracy: 0.4728\n",
      "Epoch 10, CIFAR-10 Batch 1:  Loss: 0.9214 | Validation Accuracy: 0.5324\n",
      "Epoch 11, CIFAR-10 Batch 1:  Loss: 0.8626 | Validation Accuracy: 0.5200\n",
      "Epoch 12, CIFAR-10 Batch 1:  Loss: 0.7771 | Validation Accuracy: 0.5252\n",
      "Epoch 13, CIFAR-10 Batch 1:  Loss: 0.6807 | Validation Accuracy: 0.5460\n",
      "Epoch 14, CIFAR-10 Batch 1:  Loss: 0.6341 | Validation Accuracy: 0.5368\n",
      "Epoch 15, CIFAR-10 Batch 1:  Loss: 0.5918 | Validation Accuracy: 0.5304\n",
      "Epoch 16, CIFAR-10 Batch 1:  Loss: 0.6034 | Validation Accuracy: 0.5264\n",
      "Epoch 17, CIFAR-10 Batch 1:  Loss: 0.4984 | Validation Accuracy: 0.5530\n",
      "Epoch 18, CIFAR-10 Batch 1:  Loss: 0.4487 | Validation Accuracy: 0.5456\n",
      "Epoch 19, CIFAR-10 Batch 1:  Loss: 0.4125 | Validation Accuracy: 0.5432\n",
      "Epoch 20, CIFAR-10 Batch 1:  Loss: 0.4115 | Validation Accuracy: 0.5270\n",
      "Epoch 21, CIFAR-10 Batch 1:  Loss: 0.4065 | Validation Accuracy: 0.5486\n",
      "Epoch 22, CIFAR-10 Batch 1:  Loss: 0.3768 | Validation Accuracy: 0.5540\n",
      "Epoch 23, CIFAR-10 Batch 1:  Loss: 0.2717 | Validation Accuracy: 0.5588\n",
      "Epoch 24, CIFAR-10 Batch 1:  Loss: 0.2617 | Validation Accuracy: 0.5576\n",
      "Epoch 25, CIFAR-10 Batch 1:  Loss: 0.1982 | Validation Accuracy: 0.5654\n",
      "Epoch 26, CIFAR-10 Batch 1:  Loss: 0.1608 | Validation Accuracy: 0.5694\n",
      "Epoch 27, CIFAR-10 Batch 1:  Loss: 0.1570 | Validation Accuracy: 0.5648\n",
      "Epoch 28, CIFAR-10 Batch 1:  Loss: 0.1858 | Validation Accuracy: 0.5482\n",
      "Epoch 29, CIFAR-10 Batch 1:  Loss: 0.3798 | Validation Accuracy: 0.5050\n",
      "Epoch 30, CIFAR-10 Batch 1:  Loss: 0.1778 | Validation Accuracy: 0.5514\n",
      "Epoch 31, CIFAR-10 Batch 1:  Loss: 0.2812 | Validation Accuracy: 0.5056\n",
      "Epoch 32, CIFAR-10 Batch 1:  Loss: 0.1982 | Validation Accuracy: 0.5334\n",
      "Epoch 33, CIFAR-10 Batch 1:  Loss: 0.1291 | Validation Accuracy: 0.5492\n",
      "Epoch 34, CIFAR-10 Batch 1:  Loss: 0.0815 | Validation Accuracy: 0.5642\n",
      "Epoch 35, CIFAR-10 Batch 1:  Loss: 0.0708 | Validation Accuracy: 0.5652\n",
      "Epoch 36, CIFAR-10 Batch 1:  Loss: 0.1016 | Validation Accuracy: 0.5460\n",
      "Epoch 37, CIFAR-10 Batch 1:  Loss: 0.2028 | Validation Accuracy: 0.4862\n",
      "Epoch 38, CIFAR-10 Batch 1:  Loss: 0.0849 | Validation Accuracy: 0.5418\n",
      "Epoch 39, CIFAR-10 Batch 1:  Loss: 0.0732 | Validation Accuracy: 0.5640\n",
      "Epoch 40, CIFAR-10 Batch 1:  Loss: 0.0454 | Validation Accuracy: 0.5578\n",
      "Epoch 41, CIFAR-10 Batch 1:  Loss: 0.0334 | Validation Accuracy: 0.5580\n",
      "Epoch 42, CIFAR-10 Batch 1:  Loss: 0.0367 | Validation Accuracy: 0.5550\n",
      "Epoch 43, CIFAR-10 Batch 1:  Loss: 0.0172 | Validation Accuracy: 0.5682\n",
      "Epoch 44, CIFAR-10 Batch 1:  Loss: 0.0154 | Validation Accuracy: 0.5754\n",
      "Epoch 45, CIFAR-10 Batch 1:  Loss: 0.0110 | Validation Accuracy: 0.5706\n",
      "Epoch 46, CIFAR-10 Batch 1:  Loss: 0.0131 | Validation Accuracy: 0.5636\n",
      "Epoch 47, CIFAR-10 Batch 1:  Loss: 0.0126 | Validation Accuracy: 0.5556\n",
      "Epoch 48, CIFAR-10 Batch 1:  Loss: 0.0104 | Validation Accuracy: 0.5658\n",
      "Epoch 49, CIFAR-10 Batch 1:  Loss: 0.0107 | Validation Accuracy: 0.5650\n",
      "Epoch 50, CIFAR-10 Batch 1:  Loss: 0.0107 | Validation Accuracy: 0.5574\n"
     ]
    }
   ],
   "source": [
    "\"\"\"\n",
    "DON'T MODIFY ANYTHING IN THIS CELL\n",
    "\"\"\"\n",
    "print('Checking the Training on a Single Batch...')\n",
    "with tf.Session() as sess:\n",
    "    # Initializing the variables\n",
    "    sess.run(tf.global_variables_initializer())\n",
    "    \n",
    "    # Training cycle\n",
    "    for epoch in range(epochs):\n",
    "        batch_i = 1\n",
    "        for batch_features, batch_labels in helper.load_preprocess_training_batch(batch_i, batch_size):\n",
    "            train_neural_network(sess, optimizer, keep_probability, batch_features, batch_labels)\n",
    "        print('Epoch {:>2}, CIFAR-10 Batch {}:  '.format(epoch + 1, batch_i), end='')\n",
    "        print_stats(sess, batch_features, batch_labels, cost, accuracy)"
   ]
  },
  {
   "cell_type": "markdown",
   "metadata": {},
   "source": [
    "### Fully Train the Model\n",
    "Now that you got a good accuracy with a single CIFAR-10 batch, try it with all five batches."
   ]
  },
  {
   "cell_type": "code",
   "execution_count": 17,
   "metadata": {},
   "outputs": [
    {
     "name": "stdout",
     "output_type": "stream",
     "text": [
      "Training...\n",
      "Epoch  1, CIFAR-10 Batch 1:  Loss: 2.2350 | Validation Accuracy: 0.1682\n",
      "Epoch  1, CIFAR-10 Batch 2:  Loss: 1.9982 | Validation Accuracy: 0.2614\n",
      "Epoch  1, CIFAR-10 Batch 3:  Loss: 1.7191 | Validation Accuracy: 0.3390\n",
      "Epoch  1, CIFAR-10 Batch 4:  Loss: 1.6373 | Validation Accuracy: 0.3936\n",
      "Epoch  1, CIFAR-10 Batch 5:  Loss: 1.5374 | Validation Accuracy: 0.4400\n",
      "Epoch  2, CIFAR-10 Batch 1:  Loss: 1.6084 | Validation Accuracy: 0.4558\n",
      "Epoch  2, CIFAR-10 Batch 2:  Loss: 1.4280 | Validation Accuracy: 0.4478\n",
      "Epoch  2, CIFAR-10 Batch 3:  Loss: 1.3207 | Validation Accuracy: 0.4904\n",
      "Epoch  2, CIFAR-10 Batch 4:  Loss: 1.2521 | Validation Accuracy: 0.5056\n",
      "Epoch  2, CIFAR-10 Batch 5:  Loss: 1.2827 | Validation Accuracy: 0.5064\n",
      "Epoch  3, CIFAR-10 Batch 1:  Loss: 1.3464 | Validation Accuracy: 0.5256\n",
      "Epoch  3, CIFAR-10 Batch 2:  Loss: 1.2020 | Validation Accuracy: 0.5152\n",
      "Epoch  3, CIFAR-10 Batch 3:  Loss: 1.1401 | Validation Accuracy: 0.5392\n",
      "Epoch  3, CIFAR-10 Batch 4:  Loss: 1.1202 | Validation Accuracy: 0.5358\n",
      "Epoch  3, CIFAR-10 Batch 5:  Loss: 1.0851 | Validation Accuracy: 0.5568\n",
      "Epoch  4, CIFAR-10 Batch 1:  Loss: 1.1690 | Validation Accuracy: 0.5678\n",
      "Epoch  4, CIFAR-10 Batch 2:  Loss: 1.0578 | Validation Accuracy: 0.5684\n",
      "Epoch  4, CIFAR-10 Batch 3:  Loss: 1.0170 | Validation Accuracy: 0.5712\n",
      "Epoch  4, CIFAR-10 Batch 4:  Loss: 1.0312 | Validation Accuracy: 0.5566\n",
      "Epoch  4, CIFAR-10 Batch 5:  Loss: 0.9590 | Validation Accuracy: 0.5884\n",
      "Epoch  5, CIFAR-10 Batch 1:  Loss: 1.0506 | Validation Accuracy: 0.5958\n",
      "Epoch  5, CIFAR-10 Batch 2:  Loss: 0.9611 | Validation Accuracy: 0.5852\n",
      "Epoch  5, CIFAR-10 Batch 3:  Loss: 0.9198 | Validation Accuracy: 0.5886\n",
      "Epoch  5, CIFAR-10 Batch 4:  Loss: 0.9290 | Validation Accuracy: 0.5882\n",
      "Epoch  5, CIFAR-10 Batch 5:  Loss: 0.8593 | Validation Accuracy: 0.6118\n",
      "Epoch  6, CIFAR-10 Batch 1:  Loss: 0.9369 | Validation Accuracy: 0.6056\n",
      "Epoch  6, CIFAR-10 Batch 2:  Loss: 0.8816 | Validation Accuracy: 0.6010\n",
      "Epoch  6, CIFAR-10 Batch 3:  Loss: 0.8114 | Validation Accuracy: 0.6154\n",
      "Epoch  6, CIFAR-10 Batch 4:  Loss: 0.8496 | Validation Accuracy: 0.6040\n",
      "Epoch  6, CIFAR-10 Batch 5:  Loss: 0.7870 | Validation Accuracy: 0.6246\n",
      "Epoch  7, CIFAR-10 Batch 1:  Loss: 0.8141 | Validation Accuracy: 0.6226\n",
      "Epoch  7, CIFAR-10 Batch 2:  Loss: 0.7588 | Validation Accuracy: 0.6284\n",
      "Epoch  7, CIFAR-10 Batch 3:  Loss: 0.7102 | Validation Accuracy: 0.6374\n",
      "Epoch  7, CIFAR-10 Batch 4:  Loss: 0.7757 | Validation Accuracy: 0.6152\n",
      "Epoch  7, CIFAR-10 Batch 5:  Loss: 0.7047 | Validation Accuracy: 0.6308\n",
      "Epoch  8, CIFAR-10 Batch 1:  Loss: 0.7428 | Validation Accuracy: 0.6334\n",
      "Epoch  8, CIFAR-10 Batch 2:  Loss: 0.6692 | Validation Accuracy: 0.6386\n",
      "Epoch  8, CIFAR-10 Batch 3:  Loss: 0.6422 | Validation Accuracy: 0.6446\n",
      "Epoch  8, CIFAR-10 Batch 4:  Loss: 0.6712 | Validation Accuracy: 0.6312\n",
      "Epoch  8, CIFAR-10 Batch 5:  Loss: 0.6575 | Validation Accuracy: 0.6398\n",
      "Epoch  9, CIFAR-10 Batch 1:  Loss: 0.6511 | Validation Accuracy: 0.6470\n",
      "Epoch  9, CIFAR-10 Batch 2:  Loss: 0.5949 | Validation Accuracy: 0.6522\n",
      "Epoch  9, CIFAR-10 Batch 3:  Loss: 0.5918 | Validation Accuracy: 0.6476\n",
      "Epoch  9, CIFAR-10 Batch 4:  Loss: 0.6257 | Validation Accuracy: 0.6362\n",
      "Epoch  9, CIFAR-10 Batch 5:  Loss: 0.5625 | Validation Accuracy: 0.6564\n",
      "Epoch 10, CIFAR-10 Batch 1:  Loss: 0.6282 | Validation Accuracy: 0.6450\n",
      "Epoch 10, CIFAR-10 Batch 2:  Loss: 0.5868 | Validation Accuracy: 0.6494\n",
      "Epoch 10, CIFAR-10 Batch 3:  Loss: 0.5028 | Validation Accuracy: 0.6546\n",
      "Epoch 10, CIFAR-10 Batch 4:  Loss: 0.5344 | Validation Accuracy: 0.6356\n",
      "Epoch 10, CIFAR-10 Batch 5:  Loss: 0.4824 | Validation Accuracy: 0.6618\n",
      "Epoch 11, CIFAR-10 Batch 1:  Loss: 0.5604 | Validation Accuracy: 0.6528\n",
      "Epoch 11, CIFAR-10 Batch 2:  Loss: 0.4879 | Validation Accuracy: 0.6544\n",
      "Epoch 11, CIFAR-10 Batch 3:  Loss: 0.4528 | Validation Accuracy: 0.6578\n",
      "Epoch 11, CIFAR-10 Batch 4:  Loss: 0.4765 | Validation Accuracy: 0.6254\n",
      "Epoch 11, CIFAR-10 Batch 5:  Loss: 0.4264 | Validation Accuracy: 0.6648\n",
      "Epoch 12, CIFAR-10 Batch 1:  Loss: 0.4644 | Validation Accuracy: 0.6602\n",
      "Epoch 12, CIFAR-10 Batch 2:  Loss: 0.4911 | Validation Accuracy: 0.6342\n",
      "Epoch 12, CIFAR-10 Batch 3:  Loss: 0.4011 | Validation Accuracy: 0.6614\n",
      "Epoch 12, CIFAR-10 Batch 4:  Loss: 0.4155 | Validation Accuracy: 0.6488\n",
      "Epoch 12, CIFAR-10 Batch 5:  Loss: 0.4338 | Validation Accuracy: 0.6516\n",
      "Epoch 13, CIFAR-10 Batch 1:  Loss: 0.4443 | Validation Accuracy: 0.6598\n",
      "Epoch 13, CIFAR-10 Batch 2:  Loss: 0.4588 | Validation Accuracy: 0.6472\n",
      "Epoch 13, CIFAR-10 Batch 3:  Loss: 0.3871 | Validation Accuracy: 0.6568\n",
      "Epoch 13, CIFAR-10 Batch 4:  Loss: 0.3748 | Validation Accuracy: 0.6664\n",
      "Epoch 13, CIFAR-10 Batch 5:  Loss: 0.3531 | Validation Accuracy: 0.6708\n",
      "Epoch 14, CIFAR-10 Batch 1:  Loss: 0.3869 | Validation Accuracy: 0.6702\n",
      "Epoch 14, CIFAR-10 Batch 2:  Loss: 0.3987 | Validation Accuracy: 0.6518\n",
      "Epoch 14, CIFAR-10 Batch 3:  Loss: 0.3222 | Validation Accuracy: 0.6530\n",
      "Epoch 14, CIFAR-10 Batch 4:  Loss: 0.3117 | Validation Accuracy: 0.6654\n",
      "Epoch 14, CIFAR-10 Batch 5:  Loss: 0.3210 | Validation Accuracy: 0.6636\n",
      "Epoch 15, CIFAR-10 Batch 1:  Loss: 0.3103 | Validation Accuracy: 0.6700\n",
      "Epoch 15, CIFAR-10 Batch 2:  Loss: 0.3275 | Validation Accuracy: 0.6530\n",
      "Epoch 15, CIFAR-10 Batch 3:  Loss: 0.2742 | Validation Accuracy: 0.6540\n",
      "Epoch 15, CIFAR-10 Batch 4:  Loss: 0.2562 | Validation Accuracy: 0.6656\n",
      "Epoch 15, CIFAR-10 Batch 5:  Loss: 0.2968 | Validation Accuracy: 0.6598\n",
      "Epoch 16, CIFAR-10 Batch 1:  Loss: 0.3138 | Validation Accuracy: 0.6398\n",
      "Epoch 16, CIFAR-10 Batch 2:  Loss: 0.2783 | Validation Accuracy: 0.6656\n",
      "Epoch 16, CIFAR-10 Batch 3:  Loss: 0.2459 | Validation Accuracy: 0.6614\n",
      "Epoch 16, CIFAR-10 Batch 4:  Loss: 0.2797 | Validation Accuracy: 0.6508\n",
      "Epoch 16, CIFAR-10 Batch 5:  Loss: 0.2650 | Validation Accuracy: 0.6676\n",
      "Epoch 17, CIFAR-10 Batch 1:  Loss: 0.2715 | Validation Accuracy: 0.6470\n",
      "Epoch 17, CIFAR-10 Batch 2:  Loss: 0.2875 | Validation Accuracy: 0.6488\n",
      "Epoch 17, CIFAR-10 Batch 3:  Loss: 0.2619 | Validation Accuracy: 0.6548\n",
      "Epoch 17, CIFAR-10 Batch 4:  Loss: 0.2232 | Validation Accuracy: 0.6666\n",
      "Epoch 17, CIFAR-10 Batch 5:  Loss: 0.2220 | Validation Accuracy: 0.6692\n",
      "Epoch 18, CIFAR-10 Batch 1:  Loss: 0.2643 | Validation Accuracy: 0.6316\n",
      "Epoch 18, CIFAR-10 Batch 2:  Loss: 0.3001 | Validation Accuracy: 0.6504\n",
      "Epoch 18, CIFAR-10 Batch 3:  Loss: 0.2257 | Validation Accuracy: 0.6634\n",
      "Epoch 18, CIFAR-10 Batch 4:  Loss: 0.2259 | Validation Accuracy: 0.6590\n",
      "Epoch 18, CIFAR-10 Batch 5:  Loss: 0.2060 | Validation Accuracy: 0.6662\n",
      "Epoch 19, CIFAR-10 Batch 1:  Loss: 0.2713 | Validation Accuracy: 0.6110\n",
      "Epoch 19, CIFAR-10 Batch 2:  Loss: 0.2671 | Validation Accuracy: 0.6422\n",
      "Epoch 19, CIFAR-10 Batch 3:  Loss: 0.2086 | Validation Accuracy: 0.6526\n",
      "Epoch 19, CIFAR-10 Batch 4:  Loss: 0.1673 | Validation Accuracy: 0.6662\n",
      "Epoch 19, CIFAR-10 Batch 5:  Loss: 0.1717 | Validation Accuracy: 0.6686\n",
      "Epoch 20, CIFAR-10 Batch 1:  Loss: 0.2140 | Validation Accuracy: 0.6164\n",
      "Epoch 20, CIFAR-10 Batch 2:  Loss: 0.1981 | Validation Accuracy: 0.6588\n",
      "Epoch 20, CIFAR-10 Batch 3:  Loss: 0.1464 | Validation Accuracy: 0.6550\n",
      "Epoch 20, CIFAR-10 Batch 4:  Loss: 0.1895 | Validation Accuracy: 0.6458\n",
      "Epoch 20, CIFAR-10 Batch 5:  Loss: 0.1629 | Validation Accuracy: 0.6690\n",
      "Epoch 21, CIFAR-10 Batch 1:  Loss: 0.1868 | Validation Accuracy: 0.6510\n",
      "Epoch 21, CIFAR-10 Batch 2:  Loss: 0.2366 | Validation Accuracy: 0.6350\n",
      "Epoch 21, CIFAR-10 Batch 3:  Loss: 0.1537 | Validation Accuracy: 0.6534\n",
      "Epoch 21, CIFAR-10 Batch 4:  Loss: 0.1361 | Validation Accuracy: 0.6478\n",
      "Epoch 21, CIFAR-10 Batch 5:  Loss: 0.2090 | Validation Accuracy: 0.6476\n",
      "Epoch 22, CIFAR-10 Batch 1:  Loss: 0.1188 | Validation Accuracy: 0.6694\n",
      "Epoch 22, CIFAR-10 Batch 2:  Loss: 0.1288 | Validation Accuracy: 0.6646\n",
      "Epoch 22, CIFAR-10 Batch 3:  Loss: 0.1242 | Validation Accuracy: 0.6526\n",
      "Epoch 22, CIFAR-10 Batch 4:  Loss: 0.1122 | Validation Accuracy: 0.6524\n",
      "Epoch 22, CIFAR-10 Batch 5:  Loss: 0.1719 | Validation Accuracy: 0.6534\n",
      "Epoch 23, CIFAR-10 Batch 1:  Loss: 0.1497 | Validation Accuracy: 0.6680\n",
      "Epoch 23, CIFAR-10 Batch 2:  Loss: 0.1410 | Validation Accuracy: 0.6506\n",
      "Epoch 23, CIFAR-10 Batch 3:  Loss: 0.0926 | Validation Accuracy: 0.6568\n",
      "Epoch 23, CIFAR-10 Batch 4:  Loss: 0.1320 | Validation Accuracy: 0.6396\n"
     ]
    },
    {
     "name": "stdout",
     "output_type": "stream",
     "text": [
      "Epoch 23, CIFAR-10 Batch 5:  Loss: 0.1602 | Validation Accuracy: 0.6462\n",
      "Epoch 24, CIFAR-10 Batch 1:  Loss: 0.1039 | Validation Accuracy: 0.6712\n",
      "Epoch 24, CIFAR-10 Batch 2:  Loss: 0.1085 | Validation Accuracy: 0.6430\n",
      "Epoch 24, CIFAR-10 Batch 3:  Loss: 0.1075 | Validation Accuracy: 0.6392\n",
      "Epoch 24, CIFAR-10 Batch 4:  Loss: 0.1051 | Validation Accuracy: 0.6478\n",
      "Epoch 24, CIFAR-10 Batch 5:  Loss: 0.1692 | Validation Accuracy: 0.6236\n",
      "Epoch 25, CIFAR-10 Batch 1:  Loss: 0.1587 | Validation Accuracy: 0.6492\n",
      "Epoch 25, CIFAR-10 Batch 2:  Loss: 0.1128 | Validation Accuracy: 0.6464\n",
      "Epoch 25, CIFAR-10 Batch 3:  Loss: 0.0563 | Validation Accuracy: 0.6536\n",
      "Epoch 25, CIFAR-10 Batch 4:  Loss: 0.1069 | Validation Accuracy: 0.6452\n",
      "Epoch 25, CIFAR-10 Batch 5:  Loss: 0.0881 | Validation Accuracy: 0.6490\n",
      "Epoch 26, CIFAR-10 Batch 1:  Loss: 0.1331 | Validation Accuracy: 0.6370\n",
      "Epoch 26, CIFAR-10 Batch 2:  Loss: 0.1130 | Validation Accuracy: 0.6610\n",
      "Epoch 26, CIFAR-10 Batch 3:  Loss: 0.0797 | Validation Accuracy: 0.6484\n",
      "Epoch 26, CIFAR-10 Batch 4:  Loss: 0.0926 | Validation Accuracy: 0.6590\n",
      "Epoch 26, CIFAR-10 Batch 5:  Loss: 0.1258 | Validation Accuracy: 0.6348\n",
      "Epoch 27, CIFAR-10 Batch 1:  Loss: 0.1325 | Validation Accuracy: 0.6262\n",
      "Epoch 27, CIFAR-10 Batch 2:  Loss: 0.0889 | Validation Accuracy: 0.6578\n",
      "Epoch 27, CIFAR-10 Batch 3:  Loss: 0.0549 | Validation Accuracy: 0.6556\n",
      "Epoch 27, CIFAR-10 Batch 4:  Loss: 0.1272 | Validation Accuracy: 0.6312\n",
      "Epoch 27, CIFAR-10 Batch 5:  Loss: 0.0752 | Validation Accuracy: 0.6608\n",
      "Epoch 28, CIFAR-10 Batch 1:  Loss: 0.0965 | Validation Accuracy: 0.6388\n",
      "Epoch 28, CIFAR-10 Batch 2:  Loss: 0.1244 | Validation Accuracy: 0.6378\n",
      "Epoch 28, CIFAR-10 Batch 3:  Loss: 0.0673 | Validation Accuracy: 0.6518\n",
      "Epoch 28, CIFAR-10 Batch 4:  Loss: 0.0487 | Validation Accuracy: 0.6552\n",
      "Epoch 28, CIFAR-10 Batch 5:  Loss: 0.0456 | Validation Accuracy: 0.6776\n",
      "Epoch 29, CIFAR-10 Batch 1:  Loss: 0.0514 | Validation Accuracy: 0.6600\n",
      "Epoch 29, CIFAR-10 Batch 2:  Loss: 0.0654 | Validation Accuracy: 0.6516\n",
      "Epoch 29, CIFAR-10 Batch 3:  Loss: 0.0728 | Validation Accuracy: 0.6480\n",
      "Epoch 29, CIFAR-10 Batch 4:  Loss: 0.0749 | Validation Accuracy: 0.6494\n",
      "Epoch 29, CIFAR-10 Batch 5:  Loss: 0.0455 | Validation Accuracy: 0.6628\n",
      "Epoch 30, CIFAR-10 Batch 1:  Loss: 0.0440 | Validation Accuracy: 0.6546\n",
      "Epoch 30, CIFAR-10 Batch 2:  Loss: 0.0464 | Validation Accuracy: 0.6632\n",
      "Epoch 30, CIFAR-10 Batch 3:  Loss: 0.0671 | Validation Accuracy: 0.6418\n",
      "Epoch 30, CIFAR-10 Batch 4:  Loss: 0.0613 | Validation Accuracy: 0.6564\n",
      "Epoch 30, CIFAR-10 Batch 5:  Loss: 0.0523 | Validation Accuracy: 0.6546\n",
      "Epoch 31, CIFAR-10 Batch 1:  Loss: 0.0420 | Validation Accuracy: 0.6632\n",
      "Epoch 31, CIFAR-10 Batch 2:  Loss: 0.0808 | Validation Accuracy: 0.6358\n",
      "Epoch 31, CIFAR-10 Batch 3:  Loss: 0.0429 | Validation Accuracy: 0.6592\n",
      "Epoch 31, CIFAR-10 Batch 4:  Loss: 0.0471 | Validation Accuracy: 0.6588\n",
      "Epoch 31, CIFAR-10 Batch 5:  Loss: 0.0335 | Validation Accuracy: 0.6566\n",
      "Epoch 32, CIFAR-10 Batch 1:  Loss: 0.0524 | Validation Accuracy: 0.6546\n",
      "Epoch 32, CIFAR-10 Batch 2:  Loss: 0.0442 | Validation Accuracy: 0.6554\n",
      "Epoch 32, CIFAR-10 Batch 3:  Loss: 0.0421 | Validation Accuracy: 0.6574\n",
      "Epoch 32, CIFAR-10 Batch 4:  Loss: 0.0461 | Validation Accuracy: 0.6480\n",
      "Epoch 32, CIFAR-10 Batch 5:  Loss: 0.0599 | Validation Accuracy: 0.6520\n",
      "Epoch 33, CIFAR-10 Batch 1:  Loss: 0.0337 | Validation Accuracy: 0.6690\n",
      "Epoch 33, CIFAR-10 Batch 2:  Loss: 0.0327 | Validation Accuracy: 0.6696\n",
      "Epoch 33, CIFAR-10 Batch 3:  Loss: 0.0205 | Validation Accuracy: 0.6714\n",
      "Epoch 33, CIFAR-10 Batch 4:  Loss: 0.0183 | Validation Accuracy: 0.6528\n",
      "Epoch 33, CIFAR-10 Batch 5:  Loss: 0.0295 | Validation Accuracy: 0.6604\n",
      "Epoch 34, CIFAR-10 Batch 1:  Loss: 0.0194 | Validation Accuracy: 0.6680\n",
      "Epoch 34, CIFAR-10 Batch 2:  Loss: 0.0243 | Validation Accuracy: 0.6576\n",
      "Epoch 34, CIFAR-10 Batch 3:  Loss: 0.0188 | Validation Accuracy: 0.6670\n",
      "Epoch 34, CIFAR-10 Batch 4:  Loss: 0.0133 | Validation Accuracy: 0.6610\n",
      "Epoch 34, CIFAR-10 Batch 5:  Loss: 0.0195 | Validation Accuracy: 0.6668\n",
      "Epoch 35, CIFAR-10 Batch 1:  Loss: 0.0179 | Validation Accuracy: 0.6630\n",
      "Epoch 35, CIFAR-10 Batch 2:  Loss: 0.0121 | Validation Accuracy: 0.6690\n",
      "Epoch 35, CIFAR-10 Batch 3:  Loss: 0.0111 | Validation Accuracy: 0.6732\n",
      "Epoch 35, CIFAR-10 Batch 4:  Loss: 0.0172 | Validation Accuracy: 0.6500\n",
      "Epoch 35, CIFAR-10 Batch 5:  Loss: 0.0146 | Validation Accuracy: 0.6660\n",
      "Epoch 36, CIFAR-10 Batch 1:  Loss: 0.0355 | Validation Accuracy: 0.6480\n",
      "Epoch 36, CIFAR-10 Batch 2:  Loss: 0.0171 | Validation Accuracy: 0.6556\n",
      "Epoch 36, CIFAR-10 Batch 3:  Loss: 0.0086 | Validation Accuracy: 0.6656\n",
      "Epoch 36, CIFAR-10 Batch 4:  Loss: 0.0115 | Validation Accuracy: 0.6500\n",
      "Epoch 36, CIFAR-10 Batch 5:  Loss: 0.0151 | Validation Accuracy: 0.6710\n",
      "Epoch 37, CIFAR-10 Batch 1:  Loss: 0.0292 | Validation Accuracy: 0.6440\n",
      "Epoch 37, CIFAR-10 Batch 2:  Loss: 0.0122 | Validation Accuracy: 0.6616\n",
      "Epoch 37, CIFAR-10 Batch 3:  Loss: 0.0139 | Validation Accuracy: 0.6628\n",
      "Epoch 37, CIFAR-10 Batch 4:  Loss: 0.0142 | Validation Accuracy: 0.6514\n",
      "Epoch 37, CIFAR-10 Batch 5:  Loss: 0.0087 | Validation Accuracy: 0.6722\n",
      "Epoch 38, CIFAR-10 Batch 1:  Loss: 0.0180 | Validation Accuracy: 0.6532\n",
      "Epoch 38, CIFAR-10 Batch 2:  Loss: 0.0125 | Validation Accuracy: 0.6566\n",
      "Epoch 38, CIFAR-10 Batch 3:  Loss: 0.0114 | Validation Accuracy: 0.6604\n",
      "Epoch 38, CIFAR-10 Batch 4:  Loss: 0.0331 | Validation Accuracy: 0.6338\n",
      "Epoch 38, CIFAR-10 Batch 5:  Loss: 0.0172 | Validation Accuracy: 0.6548\n",
      "Epoch 39, CIFAR-10 Batch 1:  Loss: 0.0119 | Validation Accuracy: 0.6554\n",
      "Epoch 39, CIFAR-10 Batch 2:  Loss: 0.0149 | Validation Accuracy: 0.6576\n",
      "Epoch 39, CIFAR-10 Batch 3:  Loss: 0.0068 | Validation Accuracy: 0.6634\n",
      "Epoch 39, CIFAR-10 Batch 4:  Loss: 0.0202 | Validation Accuracy: 0.6500\n",
      "Epoch 39, CIFAR-10 Batch 5:  Loss: 0.0210 | Validation Accuracy: 0.6476\n",
      "Epoch 40, CIFAR-10 Batch 1:  Loss: 0.0108 | Validation Accuracy: 0.6698\n",
      "Epoch 40, CIFAR-10 Batch 2:  Loss: 0.0292 | Validation Accuracy: 0.6522\n",
      "Epoch 40, CIFAR-10 Batch 3:  Loss: 0.0102 | Validation Accuracy: 0.6560\n",
      "Epoch 40, CIFAR-10 Batch 4:  Loss: 0.0144 | Validation Accuracy: 0.6560\n",
      "Epoch 40, CIFAR-10 Batch 5:  Loss: 0.0187 | Validation Accuracy: 0.6510\n",
      "Epoch 41, CIFAR-10 Batch 1:  Loss: 0.0115 | Validation Accuracy: 0.6644\n",
      "Epoch 41, CIFAR-10 Batch 2:  Loss: 0.0123 | Validation Accuracy: 0.6580\n",
      "Epoch 41, CIFAR-10 Batch 3:  Loss: 0.0234 | Validation Accuracy: 0.6528\n",
      "Epoch 41, CIFAR-10 Batch 4:  Loss: 0.0084 | Validation Accuracy: 0.6690\n",
      "Epoch 41, CIFAR-10 Batch 5:  Loss: 0.0086 | Validation Accuracy: 0.6686\n",
      "Epoch 42, CIFAR-10 Batch 1:  Loss: 0.0153 | Validation Accuracy: 0.6588\n",
      "Epoch 42, CIFAR-10 Batch 2:  Loss: 0.0146 | Validation Accuracy: 0.6548\n",
      "Epoch 42, CIFAR-10 Batch 3:  Loss: 0.0151 | Validation Accuracy: 0.6530\n",
      "Epoch 42, CIFAR-10 Batch 4:  Loss: 0.0141 | Validation Accuracy: 0.6596\n",
      "Epoch 42, CIFAR-10 Batch 5:  Loss: 0.0237 | Validation Accuracy: 0.6572\n",
      "Epoch 43, CIFAR-10 Batch 1:  Loss: 0.0135 | Validation Accuracy: 0.6594\n",
      "Epoch 43, CIFAR-10 Batch 2:  Loss: 0.0244 | Validation Accuracy: 0.6540\n",
      "Epoch 43, CIFAR-10 Batch 3:  Loss: 0.0148 | Validation Accuracy: 0.6584\n",
      "Epoch 43, CIFAR-10 Batch 4:  Loss: 0.0145 | Validation Accuracy: 0.6560\n",
      "Epoch 43, CIFAR-10 Batch 5:  Loss: 0.0188 | Validation Accuracy: 0.6588\n",
      "Epoch 44, CIFAR-10 Batch 1:  Loss: 0.0126 | Validation Accuracy: 0.6666\n",
      "Epoch 44, CIFAR-10 Batch 2:  Loss: 0.0048 | Validation Accuracy: 0.6738\n",
      "Epoch 44, CIFAR-10 Batch 3:  Loss: 0.0055 | Validation Accuracy: 0.6708\n",
      "Epoch 44, CIFAR-10 Batch 4:  Loss: 0.0109 | Validation Accuracy: 0.6638\n",
      "Epoch 44, CIFAR-10 Batch 5:  Loss: 0.0043 | Validation Accuracy: 0.6700\n",
      "Epoch 45, CIFAR-10 Batch 1:  Loss: 0.0108 | Validation Accuracy: 0.6628\n",
      "Epoch 45, CIFAR-10 Batch 2:  Loss: 0.0052 | Validation Accuracy: 0.6714\n",
      "Epoch 45, CIFAR-10 Batch 3:  Loss: 0.0070 | Validation Accuracy: 0.6676\n",
      "Epoch 45, CIFAR-10 Batch 4:  Loss: 0.0068 | Validation Accuracy: 0.6766\n",
      "Epoch 45, CIFAR-10 Batch 5:  Loss: 0.0039 | Validation Accuracy: 0.6696\n",
      "Epoch 46, CIFAR-10 Batch 1:  Loss: 0.0038 | Validation Accuracy: 0.6688\n",
      "Epoch 46, CIFAR-10 Batch 2:  Loss: 0.0080 | Validation Accuracy: 0.6582\n",
      "Epoch 46, CIFAR-10 Batch 3:  Loss: 0.0054 | Validation Accuracy: 0.6614\n"
     ]
    },
    {
     "name": "stdout",
     "output_type": "stream",
     "text": [
      "Epoch 46, CIFAR-10 Batch 4:  Loss: 0.0039 | Validation Accuracy: 0.6694\n",
      "Epoch 46, CIFAR-10 Batch 5:  Loss: 0.0037 | Validation Accuracy: 0.6614\n",
      "Epoch 47, CIFAR-10 Batch 1:  Loss: 0.0045 | Validation Accuracy: 0.6752\n",
      "Epoch 47, CIFAR-10 Batch 2:  Loss: 0.0026 | Validation Accuracy: 0.6768\n",
      "Epoch 47, CIFAR-10 Batch 3:  Loss: 0.0042 | Validation Accuracy: 0.6702\n",
      "Epoch 47, CIFAR-10 Batch 4:  Loss: 0.0090 | Validation Accuracy: 0.6560\n",
      "Epoch 47, CIFAR-10 Batch 5:  Loss: 0.0096 | Validation Accuracy: 0.6600\n",
      "Epoch 48, CIFAR-10 Batch 1:  Loss: 0.0038 | Validation Accuracy: 0.6782\n",
      "Epoch 48, CIFAR-10 Batch 2:  Loss: 0.0020 | Validation Accuracy: 0.6740\n",
      "Epoch 48, CIFAR-10 Batch 3:  Loss: 0.0047 | Validation Accuracy: 0.6690\n",
      "Epoch 48, CIFAR-10 Batch 4:  Loss: 0.0081 | Validation Accuracy: 0.6580\n",
      "Epoch 48, CIFAR-10 Batch 5:  Loss: 0.0053 | Validation Accuracy: 0.6730\n",
      "Epoch 49, CIFAR-10 Batch 1:  Loss: 0.0110 | Validation Accuracy: 0.6584\n",
      "Epoch 49, CIFAR-10 Batch 2:  Loss: 0.0048 | Validation Accuracy: 0.6608\n",
      "Epoch 49, CIFAR-10 Batch 3:  Loss: 0.0023 | Validation Accuracy: 0.6728\n",
      "Epoch 49, CIFAR-10 Batch 4:  Loss: 0.0041 | Validation Accuracy: 0.6760\n",
      "Epoch 49, CIFAR-10 Batch 5:  Loss: 0.0083 | Validation Accuracy: 0.6714\n",
      "Epoch 50, CIFAR-10 Batch 1:  Loss: 0.0037 | Validation Accuracy: 0.6786\n",
      "Epoch 50, CIFAR-10 Batch 2:  Loss: 0.0034 | Validation Accuracy: 0.6688\n",
      "Epoch 50, CIFAR-10 Batch 3:  Loss: 0.0021 | Validation Accuracy: 0.6770\n",
      "Epoch 50, CIFAR-10 Batch 4:  Loss: 0.0043 | Validation Accuracy: 0.6708\n",
      "Epoch 50, CIFAR-10 Batch 5:  Loss: 0.0043 | Validation Accuracy: 0.6696\n"
     ]
    }
   ],
   "source": [
    "\"\"\"\n",
    "DON'T MODIFY ANYTHING IN THIS CELL\n",
    "\"\"\"\n",
    "save_model_path = './image_classification'\n",
    "\n",
    "print('Training...')\n",
    "with tf.Session() as sess:\n",
    "    # Initializing the variables\n",
    "    sess.run(tf.global_variables_initializer())\n",
    "    \n",
    "    # Training cycle\n",
    "    for epoch in range(epochs):\n",
    "        # Loop over all batches\n",
    "        n_batches = 5\n",
    "        for batch_i in range(1, n_batches + 1):\n",
    "            for batch_features, batch_labels in helper.load_preprocess_training_batch(batch_i, batch_size):\n",
    "                train_neural_network(sess, optimizer, keep_probability, batch_features, batch_labels)\n",
    "            print('Epoch {:>2}, CIFAR-10 Batch {}:  '.format(epoch + 1, batch_i), end='')\n",
    "            print_stats(sess, batch_features, batch_labels, cost, accuracy)\n",
    "            \n",
    "    # Save Model\n",
    "    saver = tf.train.Saver()\n",
    "    save_path = saver.save(sess, save_model_path)"
   ]
  },
  {
   "cell_type": "markdown",
   "metadata": {},
   "source": [
    "# Checkpoint\n",
    "The model has been saved to disk.\n",
    "## Test Model\n",
    "Test your model against the test dataset.  This will be your final accuracy. You should have an accuracy greater than 50%. If you don't, keep tweaking the model architecture and parameters."
   ]
  },
  {
   "cell_type": "code",
   "execution_count": 18,
   "metadata": {},
   "outputs": [
    {
     "name": "stdout",
     "output_type": "stream",
     "text": [
      "Testing Accuracy: 0.6758846551179886\n",
      "\n"
     ]
    },
    {
     "data": {
      "image/png": "[encoded data removed]",
      "text/plain": [
       "<matplotlib.figure.Figure at 0x7fec5df661d0>"
      ]
     },
     "metadata": {
      "image/png": {
       "height": 319,
       "width": 355
      }
     },
     "output_type": "display_data"
    }
   ],
   "source": [
    "\"\"\"\n",
    "DON'T MODIFY ANYTHING IN THIS CELL\n",
    "\"\"\"\n",
    "%matplotlib inline\n",
    "%config InlineBackend.figure_format = 'retina'\n",
    "\n",
    "import tensorflow as tf\n",
    "import pickle\n",
    "import helper\n",
    "import random\n",
    "\n",
    "# Set batch size if not already set\n",
    "try:\n",
    "    if batch_size:\n",
    "        pass\n",
    "except NameError:\n",
    "    batch_size = 64\n",
    "\n",
    "save_model_path = './image_classification'\n",
    "n_samples = 4\n",
    "top_n_predictions = 3\n",
    "\n",
    "def test_model():\n",
    "    \"\"\"\n",
    "    Test the saved model against the test dataset\n",
    "    \"\"\"\n",
    "\n",
    "    test_features, test_labels = pickle.load(open('preprocess_test.p', mode='rb'))\n",
    "    loaded_graph = tf.Graph()\n",
    "\n",
    "    with tf.Session(graph=loaded_graph) as sess:\n",
    "        # Load model\n",
    "        loader = tf.train.import_meta_graph(save_model_path + '.meta')\n",
    "        loader.restore(sess, save_model_path)\n",
    "\n",
    "        # Get Tensors from loaded model\n",
    "        loaded_x = loaded_graph.get_tensor_by_name('x:0')\n",
    "        loaded_y = loaded_graph.get_tensor_by_name('y:0')\n",
    "        loaded_keep_prob = loaded_graph.get_tensor_by_name('keep_prob:0')\n",
    "        loaded_logits = loaded_graph.get_tensor_by_name('logits:0')\n",
    "        loaded_acc = loaded_graph.get_tensor_by_name('accuracy:0')\n",
    "        \n",
    "        # Get accuracy in batches for memory limitations\n",
    "        test_batch_acc_total = 0\n",
    "        test_batch_count = 0\n",
    "        \n",
    "        for test_feature_batch, test_label_batch in helper.batch_features_labels(test_features, test_labels, batch_size):\n",
    "            test_batch_acc_total += sess.run(\n",
    "                loaded_acc,\n",
    "                feed_dict={loaded_x: test_feature_batch, loaded_y: test_label_batch, loaded_keep_prob: 1.0})\n",
    "            test_batch_count += 1\n",
    "\n",
    "        print('Testing Accuracy: {}\\n'.format(test_batch_acc_total/test_batch_count))\n",
    "\n",
    "        # Print Random Samples\n",
    "        random_test_features, random_test_labels = tuple(zip(*random.sample(list(zip(test_features, test_labels)), n_samples)))\n",
    "        random_test_predictions = sess.run(\n",
    "            tf.nn.top_k(tf.nn.softmax(loaded_logits), top_n_predictions),\n",
    "            feed_dict={loaded_x: random_test_features, loaded_y: random_test_labels, loaded_keep_prob: 1.0})\n",
    "        helper.display_image_predictions(random_test_features, random_test_labels, random_test_predictions)\n",
    "\n",
    "\n",
    "test_model()"
   ]
  },
  {
   "cell_type": "markdown",
   "metadata": {},
   "source": [
    "## Why 50-80% Accuracy?\n",
    "You might be wondering why you can't get an accuracy any higher. First things first, 50% isn't bad for a simple CNN.  Pure guessing would get you 10% accuracy. However, you might notice people are getting scores [well above 80%](http://rodrigob.github.io/are_we_there_yet/build/classification_datasets_results.html#43494641522d3130).  That's because we haven't taught you all there is to know about neural networks. We still need to cover a few more techniques.\n",
    "## Submitting This Project\n",
    "When submitting this project, make sure to run all the cells before saving the notebook.  Save the notebook file as \"dlnd_image_classification.ipynb\" and save it as a HTML file under \"File\" -> \"Download as\".  Include the \"helper.py\" and \"problem_unittests.py\" files in your submission."
   ]
  },
  {
   "cell_type": "markdown",
   "metadata": {},
   "source": [
    "### End Of File"
   ]
  }
 ],
 "metadata": {
  "kernelspec": {
   "display_name": "Python 3",
   "language": "python",
   "name": "python3"
  },
  "language_info": {
   "codemirror_mode": {
    "name": "ipython",
    "version": 3
   },
   "file_extension": ".py",
   "mimetype": "text/x-python",
   "name": "python",
   "nbconvert_exporter": "python",
   "pygments_lexer": "ipython3",
   "version": "3.5.3"
  }
 },
 "nbformat": 4,
 "nbformat_minor": 1
}
